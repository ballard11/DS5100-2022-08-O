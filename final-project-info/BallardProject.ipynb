{
 "cells": [
  {
   "cell_type": "code",
   "execution_count": 102,
   "metadata": {},
   "outputs": [],
   "source": [
    "import numpy as np\n",
    "import pandas as pd\n",
    "import random as rm\n",
    "\n",
    "class Create_Die():\n",
    "\n",
    "    def __init__(self, faces):\n",
    "        \"it does x\"\n",
    "\n",
    "        self.faces = np.array(faces, dtype=np.float64)        \n",
    "        #Asigns faces, the length of the User Inputted array\n",
    "        self.n_faces=len(faces)\n",
    "        \n",
    "        \n",
    "        self.weights=np.array(self.faces[:])\n",
    "        self.weights[:]=1.0 #Array of weights 1.0\n",
    "        self.my_die= pd.DataFrame({\n",
    "            'Face':range(1,self.n_faces+1),\n",
    "            'Weight':self.weights})\n",
    "\n",
    "\n",
    "    def change_weight(self, f_change, weight):\n",
    "        \"Changes the weight of a single side\"\n",
    "        if f_change in self.faces:\n",
    "            f_change = f_change - 1\n",
    "            weight = float(weight)\n",
    "            self.weights[f_change]=weight\n",
    "            self.my_die = pd.DataFrame({'Face':range(1,self.n_faces+1), 'Weight':self.weights})\n",
    "            print(self.my_die)\n",
    "        else:\n",
    "            print(\"Value is not an Array\")\n",
    "\n",
    "\n",
    "    def roll_die(self,  n_rolls=1):\n",
    "        \"a method to...\"\n",
    "        \n",
    "        results=[]\n",
    "        #print(type(results))\n",
    "\n",
    "        for i in range(n_rolls):\n",
    "            result=self.my_die.Face.sample(weights=self.my_die.Weight).values[0]\n",
    "            #print(results)\n",
    "            #print(type(results))\n",
    "\n",
    "            results.append(result)\n",
    "        self.results=pd.Series(results,dtype=float)\n",
    "        return print(self.results)\n",
    "\n",
    "\n",
    "    def current_fw(self):\n",
    "        print(\"self.faces: values and type\")\n",
    "        print(self.faces)\n",
    "        print(type(self.faces))\n",
    "        \n",
    "        print(\"self.weights: values and type\")\n",
    "        print(self.weights)\n",
    "        print(type(self.weights))\n",
    " \n",
    "        print(\"self.my_die: values and type\")\n",
    "        print(self.my_die)\n",
    "        print(type(self.my_die))\n",
    " \n",
    "\n"
   ]
  },
  {
   "cell_type": "code",
   "execution_count": 103,
   "metadata": {},
   "outputs": [],
   "source": [
    "class Game(Die): \n",
    "    \n",
    "    def __init__(self,die_list):\n",
    "        \"\"\"\n",
    "        takes a single parameter, a list of already instantiated die objects.\n",
    "        \"\"\"\n",
    "        self.die_list=die_list\n",
    "\n",
    "    def play(self, num_rolls):\n",
    "        \"\"\n",
    "        self.n_rolls = num_rolls\n",
    "        x = list(range(1,self.n_rolls+1))\n",
    "        print(\"this is x\" + str(x))\n",
    "        result=[]\n",
    "        for i in range(self.n_rolls):\n",
    "            result = self.my_die.Face.sample(weights=self.my_die.Weight).value[0]\n",
    "            results.append(result)\n",
    "        self.results=pd.Series(results,dtype=float)\n",
    "        return print(self.results)"
   ]
  },
  {
   "cell_type": "code",
   "execution_count": 105,
   "metadata": {},
   "outputs": [
    {
     "name": "stdout",
     "output_type": "stream",
     "text": [
      "10\n",
      "0    10.0\n",
      "1    10.0\n",
      "2     7.0\n",
      "3     3.0\n",
      "dtype: float64\n",
      "<__main__.Create_Die object at 0x7fb7e2b19290>\n"
     ]
    }
   ],
   "source": [
    "#testing Die class\n",
    "firstDie = Create_Die([\"1\",\"2\",\"3\",4,5,6,7,8,9,10])\n",
    "\n",
    "#Change Weight Method\n",
    "#firstDie.change_weight(11,\"6\")\n",
    "\n",
    "#Roll Die Method\n",
    "firstDie.roll_die(4)\n",
    "\n",
    "#Current FW Method\n",
    "#firstDie.current_fw()\n",
    "\n",
    "print(firstDie)"
   ]
  },
  {
   "cell_type": "code",
   "execution_count": 65,
   "metadata": {},
   "outputs": [
    {
     "name": "stdout",
     "output_type": "stream",
     "text": [
      "<__main__.Die object at 0x7fb7e2abd490>\n",
      "<__main__.Die object at 0x7fb7e2ac6f90>\n",
      "<__main__.Die object at 0x7fb7e2ac6d10>\n",
      "<class '__main__.Die'>\n",
      "<class '__main__.Die'>\n",
      "<class '__main__.Die'>\n"
     ]
    }
   ],
   "source": [
    "print(first)\n",
    "print(second)\n",
    "print(third)\n",
    "\n",
    "print(type(first))\n",
    "print(type(second))\n",
    "print(type(third))\n",
    "\n",
    "test=Game([second,first,second,third])\n",
    "\n"
   ]
  },
  {
   "cell_type": "code",
   "execution_count": 52,
   "metadata": {},
   "outputs": [
    {
     "name": "stdout",
     "output_type": "stream",
     "text": [
      "this is x[1, 2, 3, 4, 5, 6, 7]\n"
     ]
    },
    {
     "ename": "AttributeError",
     "evalue": "'Game' object has no attribute 'my_die'",
     "output_type": "error",
     "traceback": [
      "\u001b[0;31m---------------------------------------------------------------------------\u001b[0m",
      "\u001b[0;31mAttributeError\u001b[0m                            Traceback (most recent call last)",
      "\u001b[0;32m<ipython-input-52-69afcb82e00a>\u001b[0m in \u001b[0;36m<module>\u001b[0;34m\u001b[0m\n\u001b[1;32m      1\u001b[0m \u001b[0mtype\u001b[0m\u001b[0;34m(\u001b[0m\u001b[0mtest\u001b[0m\u001b[0;34m)\u001b[0m\u001b[0;34m\u001b[0m\u001b[0;34m\u001b[0m\u001b[0m\n\u001b[1;32m      2\u001b[0m \u001b[0;34m\u001b[0m\u001b[0m\n\u001b[0;32m----> 3\u001b[0;31m \u001b[0mtest\u001b[0m\u001b[0;34m.\u001b[0m\u001b[0mplay\u001b[0m\u001b[0;34m(\u001b[0m\u001b[0;36m7\u001b[0m\u001b[0;34m)\u001b[0m\u001b[0;34m\u001b[0m\u001b[0;34m\u001b[0m\u001b[0m\n\u001b[0m",
      "\u001b[0;32m<ipython-input-50-9fef50606191>\u001b[0m in \u001b[0;36mplay\u001b[0;34m(self, num_rolls)\u001b[0m\n\u001b[1;32m     14\u001b[0m         \u001b[0mresult\u001b[0m\u001b[0;34m=\u001b[0m\u001b[0;34m[\u001b[0m\u001b[0;34m]\u001b[0m\u001b[0;34m\u001b[0m\u001b[0;34m\u001b[0m\u001b[0m\n\u001b[1;32m     15\u001b[0m         \u001b[0;32mfor\u001b[0m \u001b[0mi\u001b[0m \u001b[0;32min\u001b[0m \u001b[0mrange\u001b[0m\u001b[0;34m(\u001b[0m\u001b[0mself\u001b[0m\u001b[0;34m.\u001b[0m\u001b[0mn_rolls\u001b[0m\u001b[0;34m)\u001b[0m\u001b[0;34m:\u001b[0m\u001b[0;34m\u001b[0m\u001b[0;34m\u001b[0m\u001b[0m\n\u001b[0;32m---> 16\u001b[0;31m             \u001b[0mresult\u001b[0m \u001b[0;34m=\u001b[0m \u001b[0mself\u001b[0m\u001b[0;34m.\u001b[0m\u001b[0mmy_die\u001b[0m\u001b[0;34m.\u001b[0m\u001b[0mFace\u001b[0m\u001b[0;34m.\u001b[0m\u001b[0msample\u001b[0m\u001b[0;34m(\u001b[0m\u001b[0mweights\u001b[0m\u001b[0;34m=\u001b[0m\u001b[0mself\u001b[0m\u001b[0;34m.\u001b[0m\u001b[0mmy_die\u001b[0m\u001b[0;34m.\u001b[0m\u001b[0mWeight\u001b[0m\u001b[0;34m)\u001b[0m\u001b[0;34m.\u001b[0m\u001b[0mvalue\u001b[0m\u001b[0;34m[\u001b[0m\u001b[0;36m0\u001b[0m\u001b[0;34m]\u001b[0m\u001b[0;34m\u001b[0m\u001b[0;34m\u001b[0m\u001b[0m\n\u001b[0m\u001b[1;32m     17\u001b[0m             \u001b[0mresults\u001b[0m\u001b[0;34m.\u001b[0m\u001b[0mappend\u001b[0m\u001b[0;34m(\u001b[0m\u001b[0mresult\u001b[0m\u001b[0;34m)\u001b[0m\u001b[0;34m\u001b[0m\u001b[0;34m\u001b[0m\u001b[0m\n\u001b[1;32m     18\u001b[0m         \u001b[0mself\u001b[0m\u001b[0;34m.\u001b[0m\u001b[0mresults\u001b[0m\u001b[0;34m=\u001b[0m\u001b[0mpd\u001b[0m\u001b[0;34m.\u001b[0m\u001b[0mSeries\u001b[0m\u001b[0;34m(\u001b[0m\u001b[0mresults\u001b[0m\u001b[0;34m,\u001b[0m\u001b[0mdtype\u001b[0m\u001b[0;34m=\u001b[0m\u001b[0mfloat\u001b[0m\u001b[0;34m)\u001b[0m\u001b[0;34m\u001b[0m\u001b[0;34m\u001b[0m\u001b[0m\n",
      "\u001b[0;31mAttributeError\u001b[0m: 'Game' object has no attribute 'my_die'"
     ]
    }
   ],
   "source": [
    "type(test)\n",
    "\n",
    "test.play(7)"
   ]
  },
  {
   "cell_type": "code",
   "execution_count": 67,
   "metadata": {},
   "outputs": [],
   "source": [
    "first = Die([\"1\",\"2\",\"3\",4,5,6,7,8,9,10,11])\n",
    "second = Die([1,2,3,4,5,6,7,8,9,10,11])\n",
    "third = Die([1,2,3,4,5,6,7,8,9,10,11])"
   ]
  },
  {
   "cell_type": "code",
   "execution_count": 22,
   "metadata": {},
   "outputs": [
    {
     "name": "stdout",
     "output_type": "stream",
     "text": [
      "[]\n",
      "[11]\n",
      "[11, 3]\n",
      "[11, 3, 2]\n",
      "[11, 3, 2, 4]\n",
      "[11, 3, 2, 4, 1]\n",
      "[11, 3, 2, 4, 1, 11]\n",
      "[11, 3, 2, 4, 1, 11, 5]\n",
      "[11, 3, 2, 4, 1, 11, 5, 1]\n",
      "[11, 3, 2, 4, 1, 11, 5, 1, 11]\n",
      "0    11.0\n",
      "1     3.0\n",
      "2     2.0\n",
      "3     4.0\n",
      "4     1.0\n",
      "5    11.0\n",
      "6     5.0\n",
      "7     1.0\n",
      "8    11.0\n",
      "9     2.0\n",
      "dtype: float64\n",
      "[]\n",
      "[9]\n",
      "[9, 5]\n",
      "[9, 5, 9]\n",
      "[9, 5, 9, 4]\n",
      "[9, 5, 9, 4, 11]\n",
      "[9, 5, 9, 4, 11, 7]\n",
      "0     9.0\n",
      "1     5.0\n",
      "2     9.0\n",
      "3     4.0\n",
      "4    11.0\n",
      "5     7.0\n",
      "6     7.0\n",
      "dtype: float64\n"
     ]
    }
   ],
   "source": [
    "first.roll_die(10)\n",
    "second.roll_die(7)"
   ]
  },
  {
   "cell_type": "code",
   "execution_count": 23,
   "metadata": {},
   "outputs": [
    {
     "data": {
      "text/plain": [
       "0     9.0\n",
       "1     5.0\n",
       "2     9.0\n",
       "3     4.0\n",
       "4    11.0\n",
       "5     7.0\n",
       "6     7.0\n",
       "dtype: float64"
      ]
     },
     "execution_count": 23,
     "metadata": {},
     "output_type": "execute_result"
    }
   ],
   "source": [
    "first.results\n",
    "second.results"
   ]
  },
  {
   "cell_type": "code",
   "execution_count": 38,
   "metadata": {},
   "outputs": [
    {
     "ename": "AttributeError",
     "evalue": "'Game' object has no attribute 'num_rolls'",
     "output_type": "error",
     "traceback": [
      "\u001b[0;31m---------------------------------------------------------------------------\u001b[0m",
      "\u001b[0;31mAttributeError\u001b[0m                            Traceback (most recent call last)",
      "\u001b[0;32m<ipython-input-38-a9562f47e51f>\u001b[0m in \u001b[0;36m<module>\u001b[0;34m\u001b[0m\n\u001b[1;32m      1\u001b[0m \u001b[0mtype\u001b[0m\u001b[0;34m(\u001b[0m\u001b[0mtest\u001b[0m\u001b[0;34m)\u001b[0m\u001b[0;34m\u001b[0m\u001b[0;34m\u001b[0m\u001b[0m\n\u001b[1;32m      2\u001b[0m \u001b[0;34m\u001b[0m\u001b[0m\n\u001b[0;32m----> 3\u001b[0;31m \u001b[0mtest\u001b[0m\u001b[0;34m.\u001b[0m\u001b[0mplay\u001b[0m\u001b[0;34m(\u001b[0m\u001b[0;36m6\u001b[0m\u001b[0;34m)\u001b[0m\u001b[0;34m\u001b[0m\u001b[0;34m\u001b[0m\u001b[0m\n\u001b[0m",
      "\u001b[0;32m<ipython-input-19-b16ab94710c2>\u001b[0m in \u001b[0;36mplay\u001b[0;34m(self, num_rolls)\u001b[0m\n\u001b[1;32m     10\u001b[0m         \u001b[0;34m\"\"\u001b[0m\u001b[0;34m\u001b[0m\u001b[0;34m\u001b[0m\u001b[0m\n\u001b[1;32m     11\u001b[0m         \u001b[0mself\u001b[0m\u001b[0;34m.\u001b[0m\u001b[0mn_rolls\u001b[0m \u001b[0;34m=\u001b[0m \u001b[0mnum_rolls\u001b[0m\u001b[0;34m\u001b[0m\u001b[0;34m\u001b[0m\u001b[0m\n\u001b[0;32m---> 12\u001b[0;31m         \u001b[0mx\u001b[0m \u001b[0;34m=\u001b[0m \u001b[0mlist\u001b[0m\u001b[0;34m(\u001b[0m\u001b[0mrange\u001b[0m\u001b[0;34m(\u001b[0m\u001b[0;36m1\u001b[0m\u001b[0;34m,\u001b[0m\u001b[0mself\u001b[0m\u001b[0;34m.\u001b[0m\u001b[0mnum_rolls\u001b[0m\u001b[0;34m+\u001b[0m\u001b[0;36m1\u001b[0m\u001b[0;34m)\u001b[0m\u001b[0;34m)\u001b[0m\u001b[0;34m\u001b[0m\u001b[0;34m\u001b[0m\u001b[0m\n\u001b[0m\u001b[1;32m     13\u001b[0m         \u001b[0mprint\u001b[0m\u001b[0;34m(\u001b[0m\u001b[0mx\u001b[0m\u001b[0;34m)\u001b[0m\u001b[0;34m\u001b[0m\u001b[0;34m\u001b[0m\u001b[0m\n\u001b[1;32m     14\u001b[0m         \u001b[0mresult\u001b[0m\u001b[0;34m=\u001b[0m\u001b[0;34m[\u001b[0m\u001b[0;34m]\u001b[0m\u001b[0;34m\u001b[0m\u001b[0;34m\u001b[0m\u001b[0m\n",
      "\u001b[0;31mAttributeError\u001b[0m: 'Game' object has no attribute 'num_rolls'"
     ]
    }
   ],
   "source": [
    "type(test)\n",
    "\n",
    "test.play(6)\n"
   ]
  },
  {
   "cell_type": "code",
   "execution_count": null,
   "metadata": {},
   "outputs": [],
   "source": [
    "#self.counts_per_roll = df.groupby(['roll_num','face]).face.count().unstack(fill_value=0)\n",
    "\n",
    "#montycarlo.py\n",
    "\n",
    "if  _name_ == '__main__':\n",
    "    my_die = Die()\n",
    "    my_die.change_weights(3,10)\n",
    "    my_die.show_pie()\n",
    "\n",
    "    my_game = Game([my_die for i in range(5)])\n",
    "    my_game.play(100)\n",
    "\n",
    "    my_analyzer = Analyzer(my_game)\n",
    "    my_analyzer.find_combos()\n",
    "    print(my_analyzer.combos)"
   ]
  }
 ],
 "metadata": {
  "kernelspec": {
   "display_name": "Python 3",
   "language": "python",
   "name": "python3"
  },
  "language_info": {
   "codemirror_mode": {
    "name": "ipython",
    "version": 3
   },
   "file_extension": ".py",
   "mimetype": "text/x-python",
   "name": "python",
   "nbconvert_exporter": "python",
   "pygments_lexer": "ipython3",
   "version": "3.7.6"
  }
 },
 "nbformat": 4,
 "nbformat_minor": 4
}
