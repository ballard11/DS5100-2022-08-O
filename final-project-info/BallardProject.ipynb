{
 "cells": [
  {
   "cell_type": "code",
   "execution_count": null,
   "metadata": {},
   "outputs": [],
   "source": [
    "Class Die():\n",
    "\n",
    "    def __init__(self, faces):\n",
    "        faces= np.array(faces, dtype=np.float64)\n",
    "        faces=np.unique(faces)\n",
    "        self.faces = faces\n",
    "        self.n_faces=len(faces)\n",
    "        self.weights=np.array(self.faces[:])\n",
    "        self.weights[:]=1.0 #Array of weights 1.0\n",
    "        self.my_die = pd.DataFrame({'Face':range(1,self.n_faces+1),'Weight':self.weights})\n",
    "\n",
    "\n",
    "\n",
    "    def change_weight(self, f_change, weight):\n",
    "        \"Changes the weight of a single side\"\n",
    "\n",
    "        if f_change in self.faces:\n",
    "            f_change = f_change - 1\n",
    "            weight = float(weight)\n",
    "            self.weights[f_change]=weight\n",
    "            self.my_die = pd.DataFrame({'Face':range(1,self.n_faces+1), 'Weight':self.weights})\n",
    "            print(self.my_die)\n",
    "        else:\n",
    "            print(\"Value is not an Array\")\n",
    "\n",
    "    def roll_die(self,  n_rolls=1):\n",
    "        \"a method to...\"\n",
    "\n",
    "        results = []\n",
    "        for i in range(n_rolls):\n",
    "            results = self.my_die.Face.sample(weights=self.my_die.Weight).values[0]\n",
    "            results.append(result)\n",
    "        self.results=pd.Series(results,dtype=float)\n",
    "        return print(self.results)\n",
    "\n",
    "\n",
    "    def current_fw(self)\n",
    "\n",
    "        print(self.faces)\n",
    "        print(self.weights)\n",
    "        print(self.my_die)\n",
    "\n",
    "\n",
    "    def __init__(self,die_list):\n",
    "        \"\"\"\n",
    "        takes a single parameter, a list of already instantiated die objects.\n",
    "        \"\"\"\n",
    "        self.die_list = die_list\n",
    "\n",
    "    def play(self, num_rolls):\n",
    "        \"\"\n",
    "        self.n_rolls = num_rolls\n",
    "        x = list(range(1,self.num_rolls+1))\n",
    "        print(x)\n",
    "        result=[]\n",
    "        for i in range(self.n_rolls):\n",
    "            result = self.my_die.Face.sample(weights=self.my_die.Weight).value[0]\n",
    "            results.append(result)\n",
    "        self.results=pd.Series(results,dtype=float)\n",
    "        return print(self.results)\n",
    "        \n"
   ]
  },
  {
   "cell_type": "code",
   "execution_count": null,
   "metadata": {},
   "outputs": [],
   "source": []
  },
  {
   "cell_type": "code",
   "execution_count": null,
   "metadata": {},
   "outputs": [],
   "source": [
    "test=Game([first,second,third])"
   ]
  },
  {
   "cell_type": "code",
   "execution_count": null,
   "metadata": {},
   "outputs": [],
   "source": [
    "test.play(6)"
   ]
  }
 ],
 "metadata": {
  "language_info": {
   "name": "python"
  }
 },
 "nbformat": 4,
 "nbformat_minor": 4
}
