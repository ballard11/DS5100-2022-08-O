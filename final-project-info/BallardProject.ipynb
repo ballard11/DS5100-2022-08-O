{
 "cells": [
  {
   "cell_type": "code",
   "execution_count": 60,
   "metadata": {},
   "outputs": [],
   "source": [
    "import numpy as np\n",
    "import pandas as pd\n",
    "import random as rm\n",
    "\n",
    "class Die():\n",
    "\n",
    "    def __init__(self, faces):\n",
    "        \"\"\"\"\" This is the Create_Die docstring\"\"\"\n",
    "        \n",
    "    # The Initializer Method: Takes an array of faces as an argument.\n",
    "           \n",
    "        flag = len(set(faces)) == len(faces)\n",
    "        if flag == 0:\n",
    "            raise ValueError(\"Each value must be Unique.\") \n",
    "    \n",
    "        #Faces\n",
    "        #Asigns FACES to self, the length of the User Inputted array\n",
    "        self.faces = faces\n",
    "        self.n_faces = len(faces)\n",
    "        self.weights = np.ones(len(faces))\n",
    "    \n",
    "        #Create Dataframe to save values        \n",
    "        self.my_die= pd.DataFrame({\n",
    "            'Face':range(1,self.n_faces+1),\n",
    "            'Weight':self.weights})\n",
    "\n",
    "\n",
    "    def change_weight(self, f_change, weight):\n",
    "        # Changes_Weight Method: changes the weight of a single face provided (x) - Seems to work overall. \n",
    "        \n",
    "        weight = float(weight)\n",
    "        \n",
    "        if f_change in self.faces:\n",
    "            f_change = f_change - 1\n",
    "            weight = float(weight)\n",
    "            \n",
    "            self.weights[f_change]=weight\n",
    "            self.my_die = pd.DataFrame({\n",
    "                'Face':range(1,self.n_faces+1),\n",
    "                'Weight':self.weights})\n",
    "            print(self.my_die)\n",
    "        else:\n",
    "            print(\"Value is not on the Die.  (i.e. User provided value is not in the array.)\")\n",
    "\n",
    "    def roll_die(self, n_rolls=1):\n",
    "        #This one works too\n",
    "        Rolled_faces_and_weights_df = self.my_die.sample(n=n_rolls, replace = True, weights = \"Weight\").reset_index(drop= True)\n",
    "        return list(Rolled_faces_and_weights_df['Face'])    \n",
    "\n",
    "                                                \n",
    "    def show(self, wide_or_narrow = \"wide\"):\n",
    "       # A method to show the user the die’s current set of faces and weights (since the latter can be changed). (X)\n",
    "    \n",
    "        if wide_or_narrow == 'wide':\n",
    "            return self.my_die\n",
    "        \n",
    "        elif wide_or_narrow =='narrow':\n",
    "            my_die_narrow = self.my_die.stack().to_frame('Faces')\n",
    "            my_die_narrow.index.rename([\"Roll Number\",\"Dice\"], inplace = True)\n",
    "            return my_die_narrow\n",
    "        else:\n",
    "            raise ValueError(\"Arrgument must be either \\\"narrow\\\" or \\\"wide\\\"\")\n",
    "    \n",
    "        print(self.my_die)\n"
   ]
  },
  {
   "cell_type": "code",
   "execution_count": 61,
   "metadata": {},
   "outputs": [],
   "source": [
    "class Game(Die): \n",
    "    \n",
    "    def __init__(self,dice):\n",
    "        \"\"\"Game class docstring: A game consists of rolling of one or more dice of the same kind one or more times.\n",
    "        \"\"\"      \n",
    "        \n",
    "        self.dice = dice\n",
    "        self.results = pd.DataFrame()\n",
    "              \n",
    "               \n",
    "    def play(self, num_rolls):\n",
    "        for die in self.dice:\n",
    "            self.results = pd.concat([self.results,die.roll(n_rolls)],axis=1,ignore_index = True)\n",
    "        self.results.index.name = 'rolls'\n",
    "        \n",
    "    def show(self, narrow_or_wide= \"wide\"):\n",
    "        if narrow_or_wide == 'narrow':\n",
    "            return self.results.unstack\n",
    "        return self.results\n",
    "    \n"
   ]
  },
  {
   "cell_type": "code",
   "execution_count": 62,
   "metadata": {},
   "outputs": [],
   "source": [
    "sixsided = [1,2,3,4,5,6]\n",
    "\n",
    "testdie1 = Die(sixsided)\n",
    "testdie2 = Die(sixsided)\n",
    "testdie3 = Die(sixsided)\n",
    "testdie4 = Die(sixsided)\n",
    "testdie5 = Die(sixsided)\n",
    "testdie6 = Die(sixsided)\n",
    "\n",
    "testdielist = [testdie1,testdie2,testdie3,testdie4]\n",
    "\n",
    "testgame = Game(testdielist)"
   ]
  },
  {
   "cell_type": "code",
   "execution_count": 63,
   "metadata": {},
   "outputs": [
    {
     "ename": "AttributeError",
     "evalue": "'Die' object has no attribute 'roll'",
     "output_type": "error",
     "traceback": [
      "\u001b[0;31m---------------------------------------------------------------------------\u001b[0m",
      "\u001b[0;31mAttributeError\u001b[0m                            Traceback (most recent call last)",
      "\u001b[0;32m<ipython-input-63-4282147e5327>\u001b[0m in \u001b[0;36m<module>\u001b[0;34m\u001b[0m\n\u001b[0;32m----> 1\u001b[0;31m \u001b[0mtestGame\u001b[0m\u001b[0;34m.\u001b[0m\u001b[0mplay\u001b[0m\u001b[0;34m(\u001b[0m\u001b[0;36m10\u001b[0m\u001b[0;34m)\u001b[0m\u001b[0;34m\u001b[0m\u001b[0;34m\u001b[0m\u001b[0m\n\u001b[0m",
      "\u001b[0;32m<ipython-input-31-3beb138232d8>\u001b[0m in \u001b[0;36mplay\u001b[0;34m(self, num_rolls)\u001b[0m\n\u001b[1;32m     11\u001b[0m     \u001b[0;32mdef\u001b[0m \u001b[0mplay\u001b[0m\u001b[0;34m(\u001b[0m\u001b[0mself\u001b[0m\u001b[0;34m,\u001b[0m \u001b[0mnum_rolls\u001b[0m\u001b[0;34m)\u001b[0m\u001b[0;34m:\u001b[0m\u001b[0;34m\u001b[0m\u001b[0;34m\u001b[0m\u001b[0m\n\u001b[1;32m     12\u001b[0m         \u001b[0;32mfor\u001b[0m \u001b[0mdie\u001b[0m \u001b[0;32min\u001b[0m \u001b[0mself\u001b[0m\u001b[0;34m.\u001b[0m\u001b[0mdice\u001b[0m\u001b[0;34m:\u001b[0m\u001b[0;34m\u001b[0m\u001b[0;34m\u001b[0m\u001b[0m\n\u001b[0;32m---> 13\u001b[0;31m             \u001b[0mself\u001b[0m\u001b[0;34m.\u001b[0m\u001b[0mresults\u001b[0m \u001b[0;34m=\u001b[0m \u001b[0mpd\u001b[0m\u001b[0;34m.\u001b[0m\u001b[0mconcat\u001b[0m\u001b[0;34m(\u001b[0m\u001b[0;34m[\u001b[0m\u001b[0mself\u001b[0m\u001b[0;34m.\u001b[0m\u001b[0mresults\u001b[0m\u001b[0;34m,\u001b[0m\u001b[0mdie\u001b[0m\u001b[0;34m.\u001b[0m\u001b[0mroll\u001b[0m\u001b[0;34m(\u001b[0m\u001b[0mroll\u001b[0m\u001b[0;34m)\u001b[0m\u001b[0;34m]\u001b[0m\u001b[0;34m,\u001b[0m\u001b[0maxis\u001b[0m\u001b[0;34m=\u001b[0m\u001b[0;36m1\u001b[0m\u001b[0;34m,\u001b[0m\u001b[0mignore_index\u001b[0m \u001b[0;34m=\u001b[0m \u001b[0;32mTrue\u001b[0m\u001b[0;34m)\u001b[0m\u001b[0;34m\u001b[0m\u001b[0;34m\u001b[0m\u001b[0m\n\u001b[0m\u001b[1;32m     14\u001b[0m         \u001b[0mself\u001b[0m\u001b[0;34m.\u001b[0m\u001b[0mresults\u001b[0m\u001b[0;34m.\u001b[0m\u001b[0mindex\u001b[0m\u001b[0;34m.\u001b[0m\u001b[0mname\u001b[0m \u001b[0;34m=\u001b[0m \u001b[0;34m'rolls'\u001b[0m\u001b[0;34m\u001b[0m\u001b[0;34m\u001b[0m\u001b[0m\n\u001b[1;32m     15\u001b[0m \u001b[0;34m\u001b[0m\u001b[0m\n",
      "\u001b[0;31mAttributeError\u001b[0m: 'Die' object has no attribute 'roll'"
     ]
    }
   ],
   "source": [
    "testGame.play(10)"
   ]
  },
  {
   "cell_type": "code",
   "execution_count": 56,
   "metadata": {},
   "outputs": [
    {
     "data": {
      "text/html": [
       "<div>\n",
       "<style scoped>\n",
       "    .dataframe tbody tr th:only-of-type {\n",
       "        vertical-align: middle;\n",
       "    }\n",
       "\n",
       "    .dataframe tbody tr th {\n",
       "        vertical-align: top;\n",
       "    }\n",
       "\n",
       "    .dataframe thead th {\n",
       "        text-align: right;\n",
       "    }\n",
       "</style>\n",
       "<table border=\"1\" class=\"dataframe\">\n",
       "  <thead>\n",
       "    <tr style=\"text-align: right;\">\n",
       "      <th></th>\n",
       "    </tr>\n",
       "  </thead>\n",
       "  <tbody>\n",
       "  </tbody>\n",
       "</table>\n",
       "</div>"
      ],
      "text/plain": [
       "Empty DataFrame\n",
       "Columns: []\n",
       "Index: []"
      ]
     },
     "execution_count": 56,
     "metadata": {},
     "output_type": "execute_result"
    }
   ],
   "source": [
    "testGame.show(\"wide\")"
   ]
  },
  {
   "cell_type": "code",
   "execution_count": 47,
   "metadata": {},
   "outputs": [],
   "source": [
    "class Analyzer(Game): \n",
    "\n",
    "    face_count = pd.DataFrame()\n",
    "    jackpot = pd.DataFrame()\n",
    "    combos = pd.DataFrame()\n",
    "\n",
    "    number_of_dice = 0\n",
    "\n",
    "    game_results = pd.DataFrame()\n",
    "    temp_df = pd.DataFrame()\n",
    "    \n",
    "    def __init__(self, game):\n",
    "        self.game_results = game.show()\n",
    "        self.number_of_dice = len(list(self.game_results))\n",
    "        \n",
    "        \n",
    "    def get_face_count(self):\n",
    "        self.temp_df = pd.DataFrame(self.game_results.transpose().melt(var_name='rolls',value_name='faces'))\n",
    "        self.face_counts = pd.crosstab(index=self.temp_df['rolls'],columns=self.temp_df['faces'])\n",
    "                \n",
    "    def get_jackpot(self):\n",
    "        temp_df_2 = self.temp_df.groupby(['rolls','faces'], as_index = False).value_counts()\n",
    "        self.jackpots = temp_df_2.loc[temp_df_2['count'] == self.number_of_dice]\n",
    "        return len(self.jackpots)    \n",
    "    \n",
    "    def get_combo(self):\n",
    "        self.combos = self.face_counts.groupby(list(self.face_counts), as_index = False).value_counts()\n",
    "        \n",
    "        "
   ]
  },
  {
   "cell_type": "code",
   "execution_count": 51,
   "metadata": {},
   "outputs": [
    {
     "ename": "AttributeError",
     "evalue": "'Game' object has no attribute 'play2'",
     "output_type": "error",
     "traceback": [
      "\u001b[0;31m---------------------------------------------------------------------------\u001b[0m",
      "\u001b[0;31mAttributeError\u001b[0m                            Traceback (most recent call last)",
      "\u001b[0;32m<ipython-input-51-9a21b7cf40f5>\u001b[0m in \u001b[0;36m<module>\u001b[0;34m\u001b[0m\n\u001b[1;32m      7\u001b[0m \u001b[0mtestGame\u001b[0m\u001b[0;34m=\u001b[0m\u001b[0mGame\u001b[0m\u001b[0;34m(\u001b[0m\u001b[0;34m[\u001b[0m\u001b[0mfirst\u001b[0m\u001b[0;34m,\u001b[0m\u001b[0msecond\u001b[0m\u001b[0;34m,\u001b[0m\u001b[0mthird\u001b[0m\u001b[0;34m]\u001b[0m\u001b[0;34m)\u001b[0m\u001b[0;34m\u001b[0m\u001b[0;34m\u001b[0m\u001b[0m\n\u001b[1;32m      8\u001b[0m \u001b[0;34m\u001b[0m\u001b[0m\n\u001b[0;32m----> 9\u001b[0;31m \u001b[0mtestGame\u001b[0m\u001b[0;34m.\u001b[0m\u001b[0mplay2\u001b[0m\u001b[0;34m(\u001b[0m\u001b[0;36m2\u001b[0m\u001b[0;34m)\u001b[0m\u001b[0;34m\u001b[0m\u001b[0;34m\u001b[0m\u001b[0m\n\u001b[0m\u001b[1;32m     10\u001b[0m \u001b[0;34m\u001b[0m\u001b[0m\n\u001b[1;32m     11\u001b[0m \u001b[0;31m#print(testGame.GameResults)\u001b[0m\u001b[0;34m\u001b[0m\u001b[0;34m\u001b[0m\u001b[0;34m\u001b[0m\u001b[0m\n",
      "\u001b[0;31mAttributeError\u001b[0m: 'Game' object has no attribute 'play2'"
     ]
    }
   ],
   "source": [
    "#### Testing for Game class ####\n",
    "\n",
    "#first = Die([\"1\",\"2\",\"3\",4,5,6,7,8,9,10,11,12])\n",
    "#second = Die([1,2,3,4,5,6,7,8,9,10,11,12])\n",
    "#third = Die([1,2,3,4,5,6,7,8,9,10,11,12])\n",
    "\n",
    "testGame=Game([first,second,third])\n",
    "\n",
    "testGame.play2(2)\n",
    "\n",
    "#print(testGame.GameResults)\n",
    "\n",
    "#dir(testGame)\n",
    "\n",
    "#type(testGame)\n",
    "#print(GameResults)\n",
    "\n",
    "#help(testGame)\n",
    "#testGame.__dict__\n",
    "\n",
    "#test=Game([first,second,third])"
   ]
  },
  {
   "cell_type": "code",
   "execution_count": null,
   "metadata": {},
   "outputs": [],
   "source": []
  }
 ],
 "metadata": {
  "kernelspec": {
   "display_name": "Python 3",
   "language": "python",
   "name": "python3"
  },
  "language_info": {
   "codemirror_mode": {
    "name": "ipython",
    "version": 3
   },
   "file_extension": ".py",
   "mimetype": "text/x-python",
   "name": "python",
   "nbconvert_exporter": "python",
   "pygments_lexer": "ipython3",
   "version": "3.7.6"
  }
 },
 "nbformat": 4,
 "nbformat_minor": 4
}
