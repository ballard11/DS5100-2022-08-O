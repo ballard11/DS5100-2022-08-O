{
 "cells": [
  {
   "cell_type": "code",
   "execution_count": 61,
   "metadata": {},
   "outputs": [],
   "source": [
    "import numpy as np\n",
    "import pandas as pd\n",
    "import random as rm\n",
    "\n",
    "class Create_Die():\n",
    "\n",
    "    def __init__(self, faces):\n",
    "                 \n",
    "    # The Initializer Method\n",
    "        # Takes an array of faces as an argument.  (X) - seems to work overall\n",
    "        # The array's data type (dtype) may be strings or numbers.\n",
    "        # The faces must be unique; no duplicates.\n",
    "        # Internally Initializes the weights to 1.0 for each face.\n",
    "        # Saves faces and weights in a private dataframe that is to be shared by the other methods.\n",
    "       \n",
    "        print(\"Print: **Initializing Die: Create_Die Class**\")\n",
    "    \n",
    "        #Faces\n",
    "        #Asigns FACES to self, the length of the User Inputted array\n",
    "        self.faces = faces\n",
    "        self.n_faces = len(faces)\n",
    "            \n",
    "        print(\"Print: Number of Faces\")\n",
    "        print(self.n_faces)\n",
    "        \n",
    "        #WEIGHTS\n",
    "        #Assigns WEIGHTS to self, used for probability of each die\n",
    "        self.weights=np.array(self.faces[:])\n",
    "        print(\"Print: Self Weights\")\n",
    "        print(self.weights)\n",
    "\n",
    "        #This is where the weights are set to 1        \n",
    "        self.weights[:]=1.0 #Array of weights 1.0\n",
    "        \n",
    "        print(\"Print: Self Weights set to 1\")\n",
    "        print(self.weights)      \n",
    "        \n",
    "        #Create Dataframe to save values        \n",
    "        self.my_die= pd.DataFrame({\n",
    "            'Face':range(1,self.n_faces+1),\n",
    "            'Weight':self.weights})\n",
    "        \n",
    "        print(\"Print: My Die\")\n",
    "        print(self.my_die) \n",
    "        \n",
    "\n",
    "    def change_weight(self, f_change, weight):\n",
    "        # Changes_Weight Method: changes the weight of a single face provided (x) - Seems to work overall. \n",
    "        # A method to change the weight of a single side. \n",
    "        # Takes two arguments: the face value to be changed and the new weight. \n",
    "        # Checks to see if the face passed is valid; is it in the array of weights? (X) \n",
    "        # Checks to see if the weight is valid; is it a float? Can it be converted to one? () \n",
    "        \n",
    "        print(\"Print: **Change Weight Method: Create_Die Class**\")\n",
    "\n",
    "        if f_change in self.faces:\n",
    "            f_change = f_change - 1\n",
    "            weight = float(weight)\n",
    "            \n",
    "            self.weights[f_change]=weight\n",
    "            self.my_die = pd.DataFrame({\n",
    "                'Face':range(1,self.n_faces+1),\n",
    "                'Weight':self.weights})\n",
    "            print(self.my_die)\n",
    "        else:\n",
    "            print(\"Value is not on the Die.  (i.e. User provided value is not in the array.)\")\n",
    "\n",
    "\n",
    "    def roll_die(self,  n_rolls=1):\n",
    "    \n",
    "    #Roll_Die Method - A method to roll the die one or more times. \n",
    "         #Takes a parameter of how many times the die is to be rolled; defaults to 1. \n",
    "         #This is essentially a random sample from the vector of faces according to the weights. \n",
    "         #Returns a list of outcomes. \n",
    "         #Does not store internally these results. \n",
    "        \n",
    "        print(\"Print: **Roll Die: Create_Die Class**\")\n",
    "      \n",
    "        results=[]\n",
    "     \n",
    "        for i in range(n_rolls):\n",
    "            result=self.my_die.Face.sample(weights=self.my_die.Weight).values[0]\n",
    "            print(\"Print: Results: values\")\n",
    "            print(results)\n",
    "\n",
    "            results.append(result)\n",
    "        self.results=pd.Series(results,dtype=float)\n",
    "        return print(self.results)\n",
    "\n",
    "\n",
    "    def current_state(self):\n",
    "       # A method to show the user the die’s current set of faces and weights (since the latter can be changed). (X)\n",
    "       # Returns the dataframe created in the initializer but possibly updated by the weight changing method. (X)\n",
    "    \n",
    "        print(\"Print: **Current State: Create_Die Class**\")\n",
    "    \n",
    "        print(\"Print: self.faces: values and type\")\n",
    "        print(self.faces)\n",
    "        print(type(self.faces))\n",
    "        \n",
    "        print(\"Print: self.weights: values and type\")\n",
    "        print(self.weights)\n",
    "        print(type(self.weights))\n",
    " \n",
    "        print(\"Print: self.my_die: values and type\")\n",
    "        print(self.my_die)\n",
    "        print(type(self.my_die))\n",
    " "
   ]
  },
  {
   "cell_type": "code",
   "execution_count": 35,
   "metadata": {},
   "outputs": [],
   "source": [
    "class Game(Create_Die): \n",
    "    \n",
    "    def __init__(self,die_list):\n",
    "        \"\"\"\n",
    "        takes a single parameter, a list of already instantiated die objects.\n",
    "        \"\"\"\n",
    "        self.die_list=die_list\n",
    "        #self.my_die =?\n",
    "        \n",
    "    def play(self, num_rolls):\n",
    "        \"\"\n",
    "        self.n_rolls = num_rolls\n",
    "        print(\"Number of Rolls: User Provided\")\n",
    "        print(self.n_rolls)  \n",
    "        \n",
    "        x = list(range(1,self.n_rolls+1))\n",
    "        print(\"this is x\" + str(x))\n",
    "        result=[]\n",
    "        \n",
    "        for i in range(self.n_rolls):\n",
    "            result = self.my_die.Face.sample(weights=self.my_die.Weight).value[0]\n",
    "            results.append(result)\n",
    "        self.results=pd.Series(results,dtype=float)\n",
    "        \n",
    "        return print(self.results)"
   ]
  },
  {
   "cell_type": "code",
   "execution_count": 62,
   "metadata": {},
   "outputs": [
    {
     "name": "stdout",
     "output_type": "stream",
     "text": [
      "Print: **Initializing Die: Create_Die Class**\n",
      "Print: Number of Faces\n",
      "9\n",
      "Print: Self Weights\n",
      "['1' '2' '3' '4' '5' '6' '7' '8' '9']\n",
      "Print: Self Weights set to 1\n",
      "['1.0' '1.0' '1.0' '1.0' '1.0' '1.0' '1.0' '1.0' '1.0']\n",
      "Print: My Die\n",
      "   Face Weight\n",
      "0     1    1.0\n",
      "1     2    1.0\n",
      "2     3    1.0\n",
      "3     4    1.0\n",
      "4     5    1.0\n",
      "5     6    1.0\n",
      "6     7    1.0\n",
      "7     8    1.0\n",
      "8     9    1.0\n",
      "Print: **Roll Die: Create_Die Class**\n",
      "Print: Results: values\n",
      "[]\n",
      "Print: Results: values\n",
      "[2]\n",
      "Print: Results: values\n",
      "[2, 7]\n",
      "Print: Results: values\n",
      "[2, 7, 6]\n",
      "0    2.0\n",
      "1    7.0\n",
      "2    6.0\n",
      "3    4.0\n",
      "dtype: float64\n"
     ]
    }
   ],
   "source": [
    "#testing Die class\n",
    "firstDie = Create_Die([\"1\",\"2\",\"3\",4,5,6,7,8,9])\n",
    "\n",
    "#Change Weight Method\n",
    "#firstDie.change_weight(9,\"6\")\n",
    "\n",
    "#Current FW Method\n",
    "#firstDie.current_state()\n",
    "\n",
    "#Roll Die Method\n",
    "firstDie.roll_die(4)\n",
    "\n",
    "\n",
    "#print(firstDie)"
   ]
  },
  {
   "cell_type": "code",
   "execution_count": 60,
   "metadata": {},
   "outputs": [
    {
     "ename": "NameError",
     "evalue": "name 'first' is not defined",
     "output_type": "error",
     "traceback": [
      "\u001b[0;31m---------------------------------------------------------------------------\u001b[0m",
      "\u001b[0;31mNameError\u001b[0m                                 Traceback (most recent call last)",
      "\u001b[0;32m<ipython-input-60-91af3036d2ba>\u001b[0m in \u001b[0;36m<module>\u001b[0;34m\u001b[0m\n\u001b[0;32m----> 1\u001b[0;31m \u001b[0mtest\u001b[0m\u001b[0;34m=\u001b[0m\u001b[0mGame\u001b[0m\u001b[0;34m(\u001b[0m\u001b[0;34m[\u001b[0m\u001b[0mfirst\u001b[0m\u001b[0;34m,\u001b[0m\u001b[0msecond\u001b[0m\u001b[0;34m,\u001b[0m\u001b[0mthird\u001b[0m\u001b[0;34m]\u001b[0m\u001b[0;34m)\u001b[0m\u001b[0;34m\u001b[0m\u001b[0;34m\u001b[0m\u001b[0m\n\u001b[0m",
      "\u001b[0;31mNameError\u001b[0m: name 'first' is not defined"
     ]
    }
   ],
   "source": [
    "test=Game([first,second,third])"
   ]
  },
  {
   "cell_type": "code",
   "execution_count": 229,
   "metadata": {},
   "outputs": [
    {
     "name": "stdout",
     "output_type": "stream",
     "text": [
      "<class '__main__.Die'>\n",
      "<class '__main__.Die'>\n",
      "<class '__main__.Die'>\n"
     ]
    },
    {
     "data": {
      "text/plain": [
       "__main__.Game"
      ]
     },
     "execution_count": 229,
     "metadata": {},
     "output_type": "execute_result"
    }
   ],
   "source": [
    "print(type(second))\n",
    "print(type(first))\n",
    "print(type(third))\n",
    "\n",
    "\n",
    "type(test)\n",
    "#test.play(7)"
   ]
  },
  {
   "cell_type": "code",
   "execution_count": 236,
   "metadata": {},
   "outputs": [
    {
     "name": "stdout",
     "output_type": "stream",
     "text": [
      "Print: Number of Faces\n",
      "11\n",
      "Print: Self Weights\n",
      "['1' '2' '3' '4' '5' '6' '7' '8' '9' '10' '11']\n",
      "Print: Self Weights set to 1\n",
      "['1.0' '1.0' '1.0' '1.0' '1.0' '1.0' '1.0' '1.0' '1.0' '1.0' '1.0']\n",
      "Print: My Die\n",
      "    Face Weight\n",
      "0      1    1.0\n",
      "1      2    1.0\n",
      "2      3    1.0\n",
      "3      4    1.0\n",
      "4      5    1.0\n",
      "5      6    1.0\n",
      "6      7    1.0\n",
      "7      8    1.0\n",
      "8      9    1.0\n",
      "9     10    1.0\n",
      "10    11    1.0\n"
     ]
    }
   ],
   "source": [
    "first = Create_Die([\"1\",\"2\",\"3\",4,5,6,7,8,9,10,11])\n",
    "#second = Create_Die([1,2,4,4,4,4,7,8,9,10,11])\n",
    "#third = Create_Die([1,2,3,4,5,6,7,8,9,10,11])"
   ]
  },
  {
   "cell_type": "code",
   "execution_count": 234,
   "metadata": {},
   "outputs": [
    {
     "name": "stdout",
     "output_type": "stream",
     "text": [
      "<class '__main__.Create_Die'>\n",
      "Results Type\n",
      "<class 'list'>\n",
      "[]\n",
      "<class 'list'>\n",
      "[9]\n",
      "<class 'list'>\n",
      "[9, 3]\n",
      "<class 'list'>\n",
      "[9, 3, 3]\n",
      "<class 'list'>\n",
      "[9, 3, 3, 1]\n",
      "<class 'list'>\n",
      "[9, 3, 3, 1, 2]\n",
      "<class 'list'>\n",
      "[9, 3, 3, 1, 2, 11]\n",
      "<class 'list'>\n",
      "[9, 3, 3, 1, 2, 11, 4]\n",
      "<class 'list'>\n",
      "[9, 3, 3, 1, 2, 11, 4, 7]\n",
      "<class 'list'>\n",
      "[9, 3, 3, 1, 2, 11, 4, 7, 9]\n",
      "<class 'list'>\n",
      "0     9.0\n",
      "1     3.0\n",
      "2     3.0\n",
      "3     1.0\n",
      "4     2.0\n",
      "5    11.0\n",
      "6     4.0\n",
      "7     7.0\n",
      "8     9.0\n",
      "9     8.0\n",
      "dtype: float64\n"
     ]
    }
   ],
   "source": [
    "print(type(first))\n",
    "first.roll_die(10)\n",
    "#second.roll_die(7)"
   ]
  },
  {
   "cell_type": "code",
   "execution_count": 235,
   "metadata": {},
   "outputs": [
    {
     "data": {
      "text/plain": [
       "0     9.0\n",
       "1     3.0\n",
       "2     3.0\n",
       "3     1.0\n",
       "4     2.0\n",
       "5    11.0\n",
       "6     4.0\n",
       "7     7.0\n",
       "8     9.0\n",
       "9     8.0\n",
       "dtype: float64"
      ]
     },
     "execution_count": 235,
     "metadata": {},
     "output_type": "execute_result"
    }
   ],
   "source": [
    "first.results\n",
    "#second.results"
   ]
  },
  {
   "cell_type": "code",
   "execution_count": 165,
   "metadata": {},
   "outputs": [
    {
     "name": "stdout",
     "output_type": "stream",
     "text": [
      "this is x[1, 2, 3, 4, 5, 6]\n"
     ]
    },
    {
     "ename": "AttributeError",
     "evalue": "'Game' object has no attribute 'my_die'",
     "output_type": "error",
     "traceback": [
      "\u001b[0;31m---------------------------------------------------------------------------\u001b[0m",
      "\u001b[0;31mAttributeError\u001b[0m                            Traceback (most recent call last)",
      "\u001b[0;32m<ipython-input-165-a9562f47e51f>\u001b[0m in \u001b[0;36m<module>\u001b[0;34m\u001b[0m\n\u001b[1;32m      1\u001b[0m \u001b[0mtype\u001b[0m\u001b[0;34m(\u001b[0m\u001b[0mtest\u001b[0m\u001b[0;34m)\u001b[0m\u001b[0;34m\u001b[0m\u001b[0;34m\u001b[0m\u001b[0m\n\u001b[1;32m      2\u001b[0m \u001b[0;34m\u001b[0m\u001b[0m\n\u001b[0;32m----> 3\u001b[0;31m \u001b[0mtest\u001b[0m\u001b[0;34m.\u001b[0m\u001b[0mplay\u001b[0m\u001b[0;34m(\u001b[0m\u001b[0;36m6\u001b[0m\u001b[0;34m)\u001b[0m\u001b[0;34m\u001b[0m\u001b[0;34m\u001b[0m\u001b[0m\n\u001b[0m",
      "\u001b[0;32m<ipython-input-119-9fef50606191>\u001b[0m in \u001b[0;36mplay\u001b[0;34m(self, num_rolls)\u001b[0m\n\u001b[1;32m     14\u001b[0m         \u001b[0mresult\u001b[0m\u001b[0;34m=\u001b[0m\u001b[0;34m[\u001b[0m\u001b[0;34m]\u001b[0m\u001b[0;34m\u001b[0m\u001b[0;34m\u001b[0m\u001b[0m\n\u001b[1;32m     15\u001b[0m         \u001b[0;32mfor\u001b[0m \u001b[0mi\u001b[0m \u001b[0;32min\u001b[0m \u001b[0mrange\u001b[0m\u001b[0;34m(\u001b[0m\u001b[0mself\u001b[0m\u001b[0;34m.\u001b[0m\u001b[0mn_rolls\u001b[0m\u001b[0;34m)\u001b[0m\u001b[0;34m:\u001b[0m\u001b[0;34m\u001b[0m\u001b[0;34m\u001b[0m\u001b[0m\n\u001b[0;32m---> 16\u001b[0;31m             \u001b[0mresult\u001b[0m \u001b[0;34m=\u001b[0m \u001b[0mself\u001b[0m\u001b[0;34m.\u001b[0m\u001b[0mmy_die\u001b[0m\u001b[0;34m.\u001b[0m\u001b[0mFace\u001b[0m\u001b[0;34m.\u001b[0m\u001b[0msample\u001b[0m\u001b[0;34m(\u001b[0m\u001b[0mweights\u001b[0m\u001b[0;34m=\u001b[0m\u001b[0mself\u001b[0m\u001b[0;34m.\u001b[0m\u001b[0mmy_die\u001b[0m\u001b[0;34m.\u001b[0m\u001b[0mWeight\u001b[0m\u001b[0;34m)\u001b[0m\u001b[0;34m.\u001b[0m\u001b[0mvalue\u001b[0m\u001b[0;34m[\u001b[0m\u001b[0;36m0\u001b[0m\u001b[0;34m]\u001b[0m\u001b[0;34m\u001b[0m\u001b[0;34m\u001b[0m\u001b[0m\n\u001b[0m\u001b[1;32m     17\u001b[0m             \u001b[0mresults\u001b[0m\u001b[0;34m.\u001b[0m\u001b[0mappend\u001b[0m\u001b[0;34m(\u001b[0m\u001b[0mresult\u001b[0m\u001b[0;34m)\u001b[0m\u001b[0;34m\u001b[0m\u001b[0;34m\u001b[0m\u001b[0m\n\u001b[1;32m     18\u001b[0m         \u001b[0mself\u001b[0m\u001b[0;34m.\u001b[0m\u001b[0mresults\u001b[0m\u001b[0;34m=\u001b[0m\u001b[0mpd\u001b[0m\u001b[0;34m.\u001b[0m\u001b[0mSeries\u001b[0m\u001b[0;34m(\u001b[0m\u001b[0mresults\u001b[0m\u001b[0;34m,\u001b[0m\u001b[0mdtype\u001b[0m\u001b[0;34m=\u001b[0m\u001b[0mfloat\u001b[0m\u001b[0;34m)\u001b[0m\u001b[0;34m\u001b[0m\u001b[0;34m\u001b[0m\u001b[0m\n",
      "\u001b[0;31mAttributeError\u001b[0m: 'Game' object has no attribute 'my_die'"
     ]
    }
   ],
   "source": [
    "type(test)\n",
    "\n",
    "test.play(6)\n"
   ]
  },
  {
   "cell_type": "code",
   "execution_count": null,
   "metadata": {},
   "outputs": [],
   "source": [
    "#self.counts_per_roll = df.groupby(['roll_num','face]).face.count().unstack(fill_value=0)\n",
    "\n",
    "#montycarlo.py\n",
    "\n",
    "if  _name_ == '__main__':\n",
    "    my_die = Die()\n",
    "    my_die.change_weights(3,10)\n",
    "    my_die.show_pie()\n",
    "\n",
    "    my_game = Game([my_die for i in range(5)])\n",
    "    my_game.play(100)\n",
    "\n",
    "    my_analyzer = Analyzer(my_game)\n",
    "    my_analyzer.find_combos()\n",
    "    print(my_analyzer.combos)"
   ]
  },
  {
   "cell_type": "code",
   "execution_count": null,
   "metadata": {},
   "outputs": [],
   "source": [
    "class Analyzer(Die): \n",
    "\n",
    "    #An Analyzer class\n",
    "\n",
    "    def __init__(self,die_list):\n",
    "        \"\"\"\n",
    "        takes a single parameter, a list of already instantiated die objects.\n",
    "        \"\"\"\n",
    "        self.die_list=die_list\n",
    "    \n",
    "    def plot_results(self):\n",
    "        prob_model = pd.Series({i+1:round(p, 2) for i, p in enumerate(self.my_probs)})\n",
    "        print(\"Sides:\", self.n_sides)\n",
    "        print(\"Model:\")\n",
    "        print(prob_model)\n",
    "        print(\"Rolls:\", self.n_rolls)\n",
    "        self.results.value_counts().sort_index().plot.bar(rot=0);\n",
    "        \n",
    "    # We add another method because it's so easy :-)\n",
    "    def plot_probs(self):\n",
    "        pd.Series(self.my_probs).plot.pie(title=\"Die Model\")"
   ]
  }
 ],
 "metadata": {
  "kernelspec": {
   "display_name": "Python 3",
   "language": "python",
   "name": "python3"
  },
  "language_info": {
   "codemirror_mode": {
    "name": "ipython",
    "version": 3
   },
   "file_extension": ".py",
   "mimetype": "text/x-python",
   "name": "python",
   "nbconvert_exporter": "python",
   "pygments_lexer": "ipython3",
   "version": "3.7.6"
  }
 },
 "nbformat": 4,
 "nbformat_minor": 4
}
