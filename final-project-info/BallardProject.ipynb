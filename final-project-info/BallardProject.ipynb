{
 "cells": [
  {
   "cell_type": "code",
   "execution_count": 17,
   "metadata": {},
   "outputs": [],
   "source": [
    "import numpy as np\n",
    "import pandas as pd\n",
    "import random as rm\n",
    "\n",
    "class Die():\n",
    "\n",
    "    def __init__(self, faces):\n",
    "        \"it does x\"\n",
    "\n",
    "        faces = np.array(faces, dtype=np.float64)\n",
    "        faces = np.unique(faces)\n",
    "        self.faces = faces\n",
    "        self.n_faces = len(faces)\n",
    "        self.weights = np.array(self.faces[:])\n",
    "        self.weights[:] = 1.0 #Array of weights 1.0\n",
    "        self.my_die = pd.DataFrame({'Face':range(1,self.n_faces+1),'Weight':self.weights})\n",
    "\n",
    "\n",
    "    def change_weight(self, f_change, weight):\n",
    "        \"Changes the weight of a single side\"\n",
    "\n",
    "        if f_change in self.faces:\n",
    "            f_change = f_change - 1\n",
    "            weight = float(weight)\n",
    "            self.weights[f_change]=weight\n",
    "            self.my_die = pd.DataFrame({'Face':range(1,self.n_faces+1), 'Weight':self.weights})\n",
    "            print(self.my_die)\n",
    "        else:\n",
    "            print(\"Value is not an Array\")\n",
    "\n",
    "\n",
    "    def roll_die(self,  n_rolls=1):\n",
    "        \"a method to...\"\n",
    "\n",
    "        results = []\n",
    "\n",
    "        for i in range(n_rolls):\n",
    "            results = self.my_die.Face.sample(weights=self.my_die.Weight).values[0]\n",
    "            results.append(result)\n",
    "        self.results=pd.Series(results,dtype=float)\n",
    "        return print(self.results)\n",
    "\n",
    "\n",
    "    def current_fw(self):\n",
    "\n",
    "        print(self.faces)\n",
    "        print(self.weights)\n",
    "        print(self.my_die)\n",
    "\n",
    "\n"
   ]
  },
  {
   "cell_type": "code",
   "execution_count": 18,
   "metadata": {},
   "outputs": [],
   "source": [
    "first = Die([\"1\",\"2\",\"3\",4,5,6,7,8,9,10,11])\n",
    "second = Die([1,2,3,4,5,6,7,8,9,10,11])\n",
    "third = Die([1,2,3,4,5,6,7,8,9,10,11])"
   ]
  },
  {
   "cell_type": "code",
   "execution_count": 20,
   "metadata": {},
   "outputs": [
    {
     "name": "stdout",
     "output_type": "stream",
     "text": [
      "    Face  Weight\n",
      "0      1     1.0\n",
      "1      2     1.0\n",
      "2      3     1.0\n",
      "3      4     1.0\n",
      "4      5     1.0\n",
      "5      6     1.0\n",
      "6      7     1.0\n",
      "7      8     1.0\n",
      "8      9     1.0\n",
      "9     10     1.0\n",
      "10    11     6.0\n"
     ]
    }
   ],
   "source": [
    "first.change_weight(11,\"6\")\n",
    "# change the first value inito the second."
   ]
  },
  {
   "cell_type": "code",
   "execution_count": null,
   "metadata": {},
   "outputs": [],
   "source": [
    "#self.counts_per_roll = df.groupby(['roll_num','face]).face.count().unstack(fill_value=0)\n",
    "\n",
    "#montycarlo.py\n",
    "\n",
    "if  _name_ == '__main__':\n",
    "    my_die = Die()\n",
    "    my_die.change_weights(3,10)\n",
    "    my_die.show_pie()\n",
    "\n",
    "    my_game = Game([my_die for i in range(5)])\n",
    "    my_game.play(100)\n",
    "\n",
    "    my_analyzer = Analyzer(my_game)\n",
    "    my_analyzer.find_combos()\n",
    "    print(my_analyzer.combos)"
   ]
  },
  {
   "cell_type": "code",
   "execution_count": null,
   "metadata": {},
   "outputs": [],
   "source": [
    "    def __init__(self,die_list):\n",
    "        \"\"\"\n",
    "        takes a single parameter, a list of already instantiated die objects.\n",
    "        \"\"\"\n",
    "        self.die_list = die_list\n",
    "\n",
    "    def play(self, num_rolls):\n",
    "        \"\"\n",
    "        self.n_rolls = num_rolls\n",
    "        x = list(range(1,self.num_rolls+1))\n",
    "        print(x)\n",
    "        result=[]\n",
    "        for i in range(self.n_rolls):\n",
    "            result = self.my_die.Face.sample(weights=self.my_die.Weight).value[0]\n",
    "            results.append(result)\n",
    "        self.results=pd.Series(results,dtype=float)\n",
    "        return print(self.results)"
   ]
  },
  {
   "cell_type": "code",
   "execution_count": null,
   "metadata": {},
   "outputs": [],
   "source": [
    "test=Game([first,second,third])"
   ]
  },
  {
   "cell_type": "code",
   "execution_count": null,
   "metadata": {},
   "outputs": [],
   "source": [
    "test.play(6)"
   ]
  }
 ],
 "metadata": {
  "kernelspec": {
   "display_name": "Python 3",
   "language": "python",
   "name": "python3"
  },
  "language_info": {
   "codemirror_mode": {
    "name": "ipython",
    "version": 3
   },
   "file_extension": ".py",
   "mimetype": "text/x-python",
   "name": "python",
   "nbconvert_exporter": "python",
   "pygments_lexer": "ipython3",
   "version": "3.7.6"
  }
 },
 "nbformat": 4,
 "nbformat_minor": 4
}
