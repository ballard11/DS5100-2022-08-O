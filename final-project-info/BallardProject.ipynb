{
 "cells": [
  {
   "cell_type": "code",
   "execution_count": 34,
   "metadata": {},
   "outputs": [],
   "source": [
    "import numpy as np\n",
    "import pandas as pd\n",
    "import random as rm\n",
    "\n",
    "class Create_Die():\n",
    "\n",
    "    def __init__(self, faces):\n",
    "        \"\"\"\"\" This is the Create_Die docstring\"\"\"\n",
    "        \n",
    "    # The Initializer Method\n",
    "        # Takes an array of faces as an argument.  (X) - seems to work overall\n",
    "        # The array's data type (dtype) may be strings or numbers.\n",
    "        # The faces must be unique; no duplicates.\n",
    "        # Internally Initializes the weights to 1.0 for each face.\n",
    "        # Saves faces and weights in a private dataframe that is to be shared by the other methods.\n",
    "       \n",
    "        print(\"Print: **Initializing Die: Create_Die Class**\")\n",
    "    \n",
    "        #Faces\n",
    "        #Asigns FACES to self, the length of the User Inputted array\n",
    "        self.faces = faces\n",
    "        self.n_faces = len(faces)\n",
    "            \n",
    "        print(\"Print: Number of Faces\")\n",
    "        print(self.n_faces)\n",
    "        \n",
    "        #WEIGHTS\n",
    "        #Assigns WEIGHTS to self, used for probability of each die\n",
    "        self.weights=np.array(self.faces[:])\n",
    "        print(\"Print: Self Weights\")\n",
    "        print(self.weights)\n",
    "\n",
    "        #This is where the weights are set to 1        \n",
    "        self.weights[:]=1.0 #Array of weights 1.0\n",
    "        \n",
    "        print(\"Print: Self Weights set to 1\")\n",
    "        print(self.weights)      \n",
    "        \n",
    "        #Create Dataframe to save values        \n",
    "        self.my_die= pd.DataFrame({\n",
    "            'Face':range(1,self.n_faces+1),\n",
    "            'Weight':self.weights})\n",
    "        \n",
    "        print(\"Print: My Die\")\n",
    "        print(self.my_die) \n",
    "        \n",
    "\n",
    "    def change_weight(self, f_change, weight):\n",
    "        # Changes_Weight Method: changes the weight of a single face provided (x) - Seems to work overall. \n",
    "        # A method to change the weight of a single side. \n",
    "        # Takes two arguments: the face value to be changed and the new weight. \n",
    "        # Checks to see if the face passed is valid; is it in the array of weights? (X) \n",
    "        # Checks to see if the weight is valid; is it a float? Can it be converted to one? () \n",
    "        \n",
    "        print(\"Print: **Change Weight Method: Create_Die Class**\")\n",
    "\n",
    "        if f_change in self.faces:\n",
    "            f_change = f_change - 1\n",
    "            weight = float(weight)\n",
    "            \n",
    "            self.weights[f_change]=weight\n",
    "            self.my_die = pd.DataFrame({\n",
    "                'Face':range(1,self.n_faces+1),\n",
    "                'Weight':self.weights})\n",
    "            print(self.my_die)\n",
    "        else:\n",
    "            print(\"Value is not on the Die.  (i.e. User provided value is not in the array.)\")\n",
    "\n",
    "\n",
    "    def roll_die(self,  n_rolls=1):\n",
    "    \n",
    "    #Roll_Die Method - A method to roll the die one or more times. \n",
    "         #Takes a parameter of how many times the die is to be rolled; defaults to 1.   (X)\n",
    "         #This is essentially a random sample from the vector of faces according to the weights. \n",
    "         #Returns a list of outcomes. \n",
    "         #Does not store internally these results. \n",
    "        \n",
    "        print(\"Print: **Roll Die: Create_Die Class**\")\n",
    "      \n",
    "        results=[]\n",
    "     \n",
    "        for i in range(n_rolls):\n",
    "            result=self.my_die.Face.sample(weights=self.my_die.Weight).values[0]\n",
    "            results.append(result)\n",
    "        ##    print(results)\n",
    "        \n",
    "        self.results=pd.Series(results,dtype=float)\n",
    "        print(\"Results of Rolling Die:\")\n",
    "        return print(self.results)\n",
    "\n",
    "\n",
    "    def current_state(self):\n",
    "       # A method to show the user the die’s current set of faces and weights (since the latter can be changed). (X)\n",
    "       # Returns the dataframe created in the initializer but possibly updated by the weight changing method. (X)\n",
    "    \n",
    "        print(\"Print: **Current State: Create_Die Class**\")\n",
    "    \n",
    "        print(\"Print: self.faces: values and type\")\n",
    "        print(self.faces)\n",
    "        print(type(self.faces))\n",
    "        \n",
    "        print(\"Print: self.weights: values and type\")\n",
    "        print(self.weights)\n",
    "        print(type(self.weights))\n",
    " \n",
    "        print(\"Print: self.my_die: values and type\")\n",
    "        print(self.my_die)\n",
    "        print(type(self.my_die))\n",
    " "
   ]
  },
  {
   "cell_type": "code",
   "execution_count": 45,
   "metadata": {},
   "outputs": [
    {
     "name": "stdout",
     "output_type": "stream",
     "text": [
      "Print: **Initializing Die: Create_Die Class**\n",
      "Print: Number of Faces\n",
      "9\n",
      "Print: Self Weights\n",
      "['1' '2' '3' '4' '5' '6' '7' '8' '9']\n",
      "Print: Self Weights set to 1\n",
      "['1.0' '1.0' '1.0' '1.0' '1.0' '1.0' '1.0' '1.0' '1.0']\n",
      "Print: My Die\n",
      "   Face Weight\n",
      "0     1    1.0\n",
      "1     2    1.0\n",
      "2     3    1.0\n",
      "3     4    1.0\n",
      "4     5    1.0\n",
      "5     6    1.0\n",
      "6     7    1.0\n",
      "7     8    1.0\n",
      "8     9    1.0\n",
      "Print: **Roll Die: Create_Die Class**\n",
      "Results of Rolling Die:\n",
      "0    9.0\n",
      "1    8.0\n",
      "2    1.0\n",
      "3    2.0\n",
      "4    4.0\n",
      "5    5.0\n",
      "6    1.0\n",
      "7    3.0\n",
      "8    3.0\n",
      "9    6.0\n",
      "dtype: float64\n"
     ]
    }
   ],
   "source": [
    "##Testing for Die class - first class\n",
    "\n",
    "firstDie = Create_Die([\"1\",\"2\",\"3\",4,5,6,7,8,9])\n",
    "\n",
    "#Change Weight Method\n",
    "#firstDie.change_weight(9,\"6\")\n",
    "\n",
    "#Current FW Method\n",
    "#firstDie.current_state()\n",
    "\n",
    "#Roll Die Method\n",
    "firstDie.roll_die(10)\n",
    "\n",
    "\n",
    "## Evaluatinig ##\n",
    "#help(Create_Die)\n",
    "#firstDie.__dict__\n",
    "\n",
    "#print(firstDie)"
   ]
  },
  {
   "cell_type": "code",
   "execution_count": 91,
   "metadata": {},
   "outputs": [],
   "source": []
  },
  {
   "cell_type": "code",
   "execution_count": 117,
   "metadata": {},
   "outputs": [],
   "source": [
    "class Game(Create_Die): \n",
    "    \n",
    "    def __init__(self,die_list):\n",
    "        \"\"\"Game class docstring: A game consists of rolling of one or more dice of the same kind one or more times.\n",
    "        \"\"\"      \n",
    "#        A game consists of rolling of one or more dice of the same kind one or more times.\n",
    "\n",
    "#        Each game is initialized with a list of one or more of similarly defined dice (Die objects). (x)\n",
    "#        By “same kind” and “similarly defined” we mean that each die in a given game has the same number of sides and set of faces, but each die object may have its own weights.\n",
    "#        The class has a behavior to play a game, i.e. to roll all of the dice a given number of times.\n",
    "#        The class keeps the results of its most recent play.\n",
    "        \n",
    "#       By “same kind” and “similarly defined” we mean that each die in a given game has the same number of sides and set of faces, but each die object may have its own weights.\n",
    "#       Have error checking to see if the lists are each the same size\n",
    "        self.GameResults=[]\n",
    "        self.die_list=die_list\n",
    "        print(\"Print: **Initializing Game: Game Class**\")\n",
    "        \n",
    "    def play(self, num_rolls=1):\n",
    "        \n",
    "        self.n_rolls = num_rolls\n",
    "        print(\"Number of Rolls: (User Provided)\")\n",
    "        print(self.n_rolls)  \n",
    "              \n",
    "        print(\"Looping through die provided to Game.  And calling roll_die method in the Die Class.\")\n",
    "        for i in range(len(self.die_list)):\n",
    "            print(len(self.die_list))\n",
    "            print(\"Roll:\")\n",
    "            print(i)\n",
    "            #print(self.die_list[i].roll_die(self.n_rolls))\n",
    "            self.GameResults = self.die_list[i].roll_die(self.n_rolls)\n",
    "        return self.GameResults\n",
    "        #Can't get this outside of function\n",
    "      \n"
   ]
  },
  {
   "cell_type": "code",
   "execution_count": null,
   "metadata": {},
   "outputs": [],
   "source": [
    "####Testing Block        \n",
    "\n",
    "#Outer block is number of rolls\n",
    "\"\"\"\n",
    "    for n in self.n_rolls\n",
    "    #First block is number of Die\n",
    "        for i in range(len(self.die_list)):\n",
    "            print(len(self.die_list))\n",
    "            print(i)\n",
    "            self.GameResults = self.die_list[i].roll_die(self.n_rolls)\n",
    "        return\n",
    "    return\n",
    "\"\"\""
   ]
  },
  {
   "cell_type": "code",
   "execution_count": 115,
   "metadata": {},
   "outputs": [
    {
     "name": "stdout",
     "output_type": "stream",
     "text": [
      "[]\n"
     ]
    }
   ],
   "source": [
    "#### Testing for Game class ####\n",
    "\n",
    "#first = Create_Die([\"1\",\"2\",\"3\",4,5,6,7,8,9,10,11,12])\n",
    "#second = Create_Die([1,2,4,4,4,4,7,8,9,10,11,12])\n",
    "#third = Create_Die([1,2,3,4,5,6,7,8,9,10,11,12])\n",
    "\n",
    "#testGame=Game([first,second,third])\n",
    "\n",
    "#testGame.play(5)\n",
    "#print(testGame.GameResults)\n",
    "\n",
    "#dir(testGame)\n",
    "\n",
    "#type(testGame)\n",
    "#print(GameResults)\n",
    "\n",
    "#help(testGame)\n",
    "#testGame.__dict__\n",
    "\n",
    "\n",
    "#test=Game([first,second,third])"
   ]
  },
  {
   "cell_type": "code",
   "execution_count": null,
   "metadata": {},
   "outputs": [],
   "source": []
  },
  {
   "cell_type": "code",
   "execution_count": null,
   "metadata": {},
   "outputs": [],
   "source": []
  },
  {
   "cell_type": "code",
   "execution_count": null,
   "metadata": {},
   "outputs": [],
   "source": []
  },
  {
   "cell_type": "code",
   "execution_count": null,
   "metadata": {},
   "outputs": [],
   "source": []
  },
  {
   "cell_type": "code",
   "execution_count": null,
   "metadata": {},
   "outputs": [],
   "source": []
  },
  {
   "cell_type": "code",
   "execution_count": 229,
   "metadata": {},
   "outputs": [
    {
     "name": "stdout",
     "output_type": "stream",
     "text": [
      "<class '__main__.Die'>\n",
      "<class '__main__.Die'>\n",
      "<class '__main__.Die'>\n"
     ]
    },
    {
     "data": {
      "text/plain": [
       "__main__.Game"
      ]
     },
     "execution_count": 229,
     "metadata": {},
     "output_type": "execute_result"
    }
   ],
   "source": [
    "print(type(second))\n",
    "print(type(first))\n",
    "print(type(third))\n",
    "\n",
    "\n",
    "type(test)\n",
    "#test.play(7)"
   ]
  },
  {
   "cell_type": "code",
   "execution_count": 234,
   "metadata": {},
   "outputs": [
    {
     "name": "stdout",
     "output_type": "stream",
     "text": [
      "<class '__main__.Create_Die'>\n",
      "Results Type\n",
      "<class 'list'>\n",
      "[]\n",
      "<class 'list'>\n",
      "[9]\n",
      "<class 'list'>\n",
      "[9, 3]\n",
      "<class 'list'>\n",
      "[9, 3, 3]\n",
      "<class 'list'>\n",
      "[9, 3, 3, 1]\n",
      "<class 'list'>\n",
      "[9, 3, 3, 1, 2]\n",
      "<class 'list'>\n",
      "[9, 3, 3, 1, 2, 11]\n",
      "<class 'list'>\n",
      "[9, 3, 3, 1, 2, 11, 4]\n",
      "<class 'list'>\n",
      "[9, 3, 3, 1, 2, 11, 4, 7]\n",
      "<class 'list'>\n",
      "[9, 3, 3, 1, 2, 11, 4, 7, 9]\n",
      "<class 'list'>\n",
      "0     9.0\n",
      "1     3.0\n",
      "2     3.0\n",
      "3     1.0\n",
      "4     2.0\n",
      "5    11.0\n",
      "6     4.0\n",
      "7     7.0\n",
      "8     9.0\n",
      "9     8.0\n",
      "dtype: float64\n"
     ]
    }
   ],
   "source": [
    "print(type(first))\n",
    "first.roll_die(10)\n",
    "#second.roll_die(7)"
   ]
  },
  {
   "cell_type": "code",
   "execution_count": 235,
   "metadata": {},
   "outputs": [
    {
     "data": {
      "text/plain": [
       "0     9.0\n",
       "1     3.0\n",
       "2     3.0\n",
       "3     1.0\n",
       "4     2.0\n",
       "5    11.0\n",
       "6     4.0\n",
       "7     7.0\n",
       "8     9.0\n",
       "9     8.0\n",
       "dtype: float64"
      ]
     },
     "execution_count": 235,
     "metadata": {},
     "output_type": "execute_result"
    }
   ],
   "source": [
    "first.results\n",
    "#second.results"
   ]
  },
  {
   "cell_type": "code",
   "execution_count": 165,
   "metadata": {},
   "outputs": [
    {
     "name": "stdout",
     "output_type": "stream",
     "text": [
      "this is x[1, 2, 3, 4, 5, 6]\n"
     ]
    },
    {
     "ename": "AttributeError",
     "evalue": "'Game' object has no attribute 'my_die'",
     "output_type": "error",
     "traceback": [
      "\u001b[0;31m---------------------------------------------------------------------------\u001b[0m",
      "\u001b[0;31mAttributeError\u001b[0m                            Traceback (most recent call last)",
      "\u001b[0;32m<ipython-input-165-a9562f47e51f>\u001b[0m in \u001b[0;36m<module>\u001b[0;34m\u001b[0m\n\u001b[1;32m      1\u001b[0m \u001b[0mtype\u001b[0m\u001b[0;34m(\u001b[0m\u001b[0mtest\u001b[0m\u001b[0;34m)\u001b[0m\u001b[0;34m\u001b[0m\u001b[0;34m\u001b[0m\u001b[0m\n\u001b[1;32m      2\u001b[0m \u001b[0;34m\u001b[0m\u001b[0m\n\u001b[0;32m----> 3\u001b[0;31m \u001b[0mtest\u001b[0m\u001b[0;34m.\u001b[0m\u001b[0mplay\u001b[0m\u001b[0;34m(\u001b[0m\u001b[0;36m6\u001b[0m\u001b[0;34m)\u001b[0m\u001b[0;34m\u001b[0m\u001b[0;34m\u001b[0m\u001b[0m\n\u001b[0m",
      "\u001b[0;32m<ipython-input-119-9fef50606191>\u001b[0m in \u001b[0;36mplay\u001b[0;34m(self, num_rolls)\u001b[0m\n\u001b[1;32m     14\u001b[0m         \u001b[0mresult\u001b[0m\u001b[0;34m=\u001b[0m\u001b[0;34m[\u001b[0m\u001b[0;34m]\u001b[0m\u001b[0;34m\u001b[0m\u001b[0;34m\u001b[0m\u001b[0m\n\u001b[1;32m     15\u001b[0m         \u001b[0;32mfor\u001b[0m \u001b[0mi\u001b[0m \u001b[0;32min\u001b[0m \u001b[0mrange\u001b[0m\u001b[0;34m(\u001b[0m\u001b[0mself\u001b[0m\u001b[0;34m.\u001b[0m\u001b[0mn_rolls\u001b[0m\u001b[0;34m)\u001b[0m\u001b[0;34m:\u001b[0m\u001b[0;34m\u001b[0m\u001b[0;34m\u001b[0m\u001b[0m\n\u001b[0;32m---> 16\u001b[0;31m             \u001b[0mresult\u001b[0m \u001b[0;34m=\u001b[0m \u001b[0mself\u001b[0m\u001b[0;34m.\u001b[0m\u001b[0mmy_die\u001b[0m\u001b[0;34m.\u001b[0m\u001b[0mFace\u001b[0m\u001b[0;34m.\u001b[0m\u001b[0msample\u001b[0m\u001b[0;34m(\u001b[0m\u001b[0mweights\u001b[0m\u001b[0;34m=\u001b[0m\u001b[0mself\u001b[0m\u001b[0;34m.\u001b[0m\u001b[0mmy_die\u001b[0m\u001b[0;34m.\u001b[0m\u001b[0mWeight\u001b[0m\u001b[0;34m)\u001b[0m\u001b[0;34m.\u001b[0m\u001b[0mvalue\u001b[0m\u001b[0;34m[\u001b[0m\u001b[0;36m0\u001b[0m\u001b[0;34m]\u001b[0m\u001b[0;34m\u001b[0m\u001b[0;34m\u001b[0m\u001b[0m\n\u001b[0m\u001b[1;32m     17\u001b[0m             \u001b[0mresults\u001b[0m\u001b[0;34m.\u001b[0m\u001b[0mappend\u001b[0m\u001b[0;34m(\u001b[0m\u001b[0mresult\u001b[0m\u001b[0;34m)\u001b[0m\u001b[0;34m\u001b[0m\u001b[0;34m\u001b[0m\u001b[0m\n\u001b[1;32m     18\u001b[0m         \u001b[0mself\u001b[0m\u001b[0;34m.\u001b[0m\u001b[0mresults\u001b[0m\u001b[0;34m=\u001b[0m\u001b[0mpd\u001b[0m\u001b[0;34m.\u001b[0m\u001b[0mSeries\u001b[0m\u001b[0;34m(\u001b[0m\u001b[0mresults\u001b[0m\u001b[0;34m,\u001b[0m\u001b[0mdtype\u001b[0m\u001b[0;34m=\u001b[0m\u001b[0mfloat\u001b[0m\u001b[0;34m)\u001b[0m\u001b[0;34m\u001b[0m\u001b[0;34m\u001b[0m\u001b[0m\n",
      "\u001b[0;31mAttributeError\u001b[0m: 'Game' object has no attribute 'my_die'"
     ]
    }
   ],
   "source": [
    "type(test)\n",
    "\n",
    "test.play(6)"
   ]
  },
  {
   "cell_type": "code",
   "execution_count": null,
   "metadata": {},
   "outputs": [],
   "source": [
    "#self.counts_per_roll = df.groupby(['roll_num','face]).face.count().unstack(fill_value=0)\n",
    "\n",
    "#montycarlo.py\n",
    "\n",
    "if  _name_ == '__main__':\n",
    "    my_die = Die()\n",
    "    my_die.change_weights(3,10)\n",
    "    my_die.show_pie()\n",
    "\n",
    "    my_game = Game([my_die for i in range(5)])\n",
    "    my_game.play(100)\n",
    "\n",
    "    my_analyzer = Analyzer(my_game)\n",
    "    my_analyzer.find_combos()\n",
    "    print(my_analyzer.combos)"
   ]
  },
  {
   "cell_type": "code",
   "execution_count": null,
   "metadata": {},
   "outputs": [],
   "source": [
    "class Analyzer(Die): \n",
    "\n",
    "    #An Analyzer class\n",
    "\n",
    "    def __init__(self,die_list):\n",
    "        \"\"\"\n",
    "        An analyzer takes the results of a single game and computes various descriptive statistical properties about it.\n",
    "        \"\"\"\n",
    "        self.die_list=die_list\n",
    "\n",
    "#These properties are available as attributes of an Analyzer object.\n",
    "#Attributes (and associated methods) include:\n",
    "\n",
    "    #A face counts per roll, i.e. the number of times a given face appeared in each roll. For example, if a roll of five dice has all sixes, then the counts for this roll would be 6 for the face value '6' and 0 for the other faces.\n",
    "    #A jackpot count, i.e. how many times a roll resulted in all faces being the same, e.g. six ones for a six-sided die.\n",
    "    #A combo count, i.e. how many combination types of faces were rolled and their counts.\n",
    "    #A permutation count, i.e. how may sequence types were rolled and their counts.\n",
    "        \n",
    "        \n",
    "    def plot_results(self):\n",
    "        prob_model = pd.Series({i+1:round(p, 2) for i, p in enumerate(self.my_probs)})\n",
    "        print(\"Sides:\", self.n_sides)\n",
    "        print(\"Model:\")\n",
    "        print(prob_model)\n",
    "        print(\"Rolls:\", self.n_rolls)\n",
    "        self.results.value_counts().sort_index().plot.bar(rot=0);\n",
    "        \n",
    "    # We add another method because it's so easy :-)\n",
    "    def plot_probs(self):\n",
    "        pd.Series(self.my_probs).plot.pie(title=\"Die Model\")"
   ]
  }
 ],
 "metadata": {
  "kernelspec": {
   "display_name": "Python 3",
   "language": "python",
   "name": "python3"
  },
  "language_info": {
   "codemirror_mode": {
    "name": "ipython",
    "version": 3
   },
   "file_extension": ".py",
   "mimetype": "text/x-python",
   "name": "python",
   "nbconvert_exporter": "python",
   "pygments_lexer": "ipython3",
   "version": "3.7.6"
  }
 },
 "nbformat": 4,
 "nbformat_minor": 4
}
