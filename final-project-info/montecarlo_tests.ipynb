{
 "cells": [
  {
   "cell_type": "code",
   "execution_count": null,
   "metadata": {},
   "outputs": [],
   "source": [
    "import unittest \n",
    "import numpy as np\n",
    "import pandas as pd\n",
    "import random as rm\n",
    "from MonteCarlo_demo import Die,Game,Analyzer\n",
    "\n",
    "class MonteCarloTest(unittest.TestCase):\n",
    "    \n",
    "    def test_1(self):\n",
    "        first = Die([1,2,3,4],\"new\")\n",
    "        \n",
    "        \n",
    "if __name__ == '__main__':\n",
    "    pass\n",
    "\n",
    "\n",
    "\n",
    "#self.counts_per_roll = df.groupby(['roll_num','face]).face.count().unstack(fill_value=0)\n",
    "\n",
    "#montycarlo.py\n",
    "\n",
    "if  _name_ == '__main__':\n",
    "    my_die = Die()\n",
    "    my_die.change_weights(3,10)\n",
    "    my_die.show_pie()\n",
    "\n",
    "    my_game = Game([my_die for i in range(5)])\n",
    "    my_game.play(100)\n",
    "\n",
    "    my_analyzer = Analyzer(my_game)\n",
    "    my_analyzer.find_combos()\n",
    "    print(my_analyzer.combos)"
   ]
  }
 ],
 "metadata": {
  "kernelspec": {
   "display_name": "Python 3",
   "language": "python",
   "name": "python3"
  },
  "language_info": {
   "codemirror_mode": {
    "name": "ipython",
    "version": 3
   },
   "file_extension": ".py",
   "mimetype": "text/x-python",
   "name": "python",
   "nbconvert_exporter": "python",
   "pygments_lexer": "ipython3",
   "version": "3.7.6"
  }
 },
 "nbformat": 4,
 "nbformat_minor": 4
}
