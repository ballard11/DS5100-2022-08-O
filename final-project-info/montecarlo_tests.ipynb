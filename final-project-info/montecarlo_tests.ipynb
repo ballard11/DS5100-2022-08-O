{
 "cells": [
  {
   "cell_type": "code",
   "execution_count": 3,
   "metadata": {},
   "outputs": [
    {
     "ename": "ModuleNotFoundError",
     "evalue": "No module named 'MonteCarlo'",
     "output_type": "error",
     "traceback": [
      "\u001b[1;31m---------------------------------------------------------------------------\u001b[0m",
      "\u001b[1;31mModuleNotFoundError\u001b[0m                       Traceback (most recent call last)",
      "\u001b[1;32m~\\AppData\\Local\\Temp\\ipykernel_14532\\2639974753.py\u001b[0m in \u001b[0;36m<module>\u001b[1;34m\u001b[0m\n\u001b[0;32m      3\u001b[0m \u001b[1;32mimport\u001b[0m \u001b[0mpandas\u001b[0m \u001b[1;32mas\u001b[0m \u001b[0mpd\u001b[0m\u001b[1;33m\u001b[0m\u001b[1;33m\u001b[0m\u001b[0m\n\u001b[0;32m      4\u001b[0m \u001b[1;32mimport\u001b[0m \u001b[0mrandom\u001b[0m \u001b[1;32mas\u001b[0m \u001b[0mrm\u001b[0m\u001b[1;33m\u001b[0m\u001b[1;33m\u001b[0m\u001b[0m\n\u001b[1;32m----> 5\u001b[1;33m \u001b[1;32mfrom\u001b[0m \u001b[0mMonteCarlo\u001b[0m \u001b[1;32mimport\u001b[0m \u001b[0mDie\u001b[0m\u001b[1;33m,\u001b[0m\u001b[0mGame\u001b[0m\u001b[1;33m,\u001b[0m\u001b[0mAnalyzer\u001b[0m\u001b[1;33m\u001b[0m\u001b[1;33m\u001b[0m\u001b[0m\n\u001b[0m\u001b[0;32m      6\u001b[0m \u001b[1;33m\u001b[0m\u001b[0m\n\u001b[0;32m      7\u001b[0m \u001b[1;31m#???\u001b[0m\u001b[1;33m\u001b[0m\u001b[1;33m\u001b[0m\u001b[0m\n",
      "\u001b[1;31mModuleNotFoundError\u001b[0m: No module named 'MonteCarlo'"
     ]
    }
   ],
   "source": [
    "import unittest \n",
    "import numpy as np\n",
    "import pandas as pd\n",
    "import random as rm\n",
    "from MonteCarlo import Die,Game,Analyzer\n",
    "\n",
    "#???\n",
    "class MonteCarloTest(unittest.TestCase):\n",
    "    \n",
    "    def test_1(self):\n",
    "        first = Die([1,2,3,4],\"new\")\n",
    "        \n",
    "    def test_1_add_book(self): \n",
    "        # add a book and test if it is in `book_list`.\n",
    "        test1 = BookLover(\"Ben\",\"bkq5nt@virginia.edu\",\"History\")\n",
    "        test1.add_book(\"Harry Potter\",1)       \n",
    "        actual = test_1.book_list\n",
    "        #Build Expected - to Test\n",
    "        book_list = pd.DataFrame({'Harry Potter':[], 1:[]})\n",
    "        expected = BookLover(\"Ben\",\"bkq5nt@virginia.edu\",\"History\",book_list)\n",
    "        self.assertEqual(actual.book_list, expected.book_list)\n",
    "\n",
    "    def test_1_Die_create_die(self):    \n",
    "        sixsided = [1,2,3,4,5,6]\n",
    "        testdie1 = Die(sixsided)\n",
    "        testdie2 = Die(sixsided)\n",
    "        testdie3 = Die(sixsided)\n",
    "        testdie4 = Die(sixsided)\n",
    "        testdie5 = Die(sixsided)\n",
    "        testdie6 = Die(sixsided)\n",
    "        testdielist = [testdie1,testdie2,testdie3,testdie4]\n",
    "        testgame = Game(testdielist)\n",
    "        testgame.show(\"wide\")\n",
    "        self.assertEqual(testgame.show, expected.show)\n",
    "\n",
    "    def test_2_Die_change_weight(self):\n",
    "        \n",
    "    def test_3_Die_change_weight(self):\n",
    "\n",
    "    def test_4_Die_roll_die(self):\n",
    "    \n",
    "    def test_5_Die_show(self):           \n",
    "    \n",
    "    def test_6_Game_play(self):\n",
    "    \n",
    "    def test_7_Game_show(self):\n",
    "    \n",
    "    def test_8_Analyzer_get_face_count(self):\n",
    "    \n",
    "    def test_9_Analyzer_get_jackpot_Analyzer(self):\n",
    "    \n",
    "    def test_9_Analyzer_get_combo(self):\n",
    "        \n",
    "\n",
    "if __name__ == '__main__':\n",
    "    unittest.main()\n",
    "                                   \n",
    "        \n",
    "if __name__ == '__main__':\n",
    "    pass\n",
    "\n"
   ]
  },
  {
   "cell_type": "code",
   "execution_count": null,
   "metadata": {},
   "outputs": [],
   "source": []
  }
 ],
 "metadata": {
  "kernelspec": {
   "display_name": "Python 3 (ipykernel)",
   "language": "python",
   "name": "python3"
  },
  "language_info": {
   "codemirror_mode": {
    "name": "ipython",
    "version": 3
   },
   "file_extension": ".py",
   "mimetype": "text/x-python",
   "name": "python",
   "nbconvert_exporter": "python",
   "pygments_lexer": "ipython3",
   "version": "3.9.13"
  }
 },
 "nbformat": 4,
 "nbformat_minor": 4
}
