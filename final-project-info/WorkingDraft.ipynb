{
 "cells": [
  {
   "cell_type": "code",
   "execution_count": 20,
   "id": "0110d9b1-665c-448d-a8b3-9c51723276fe",
   "metadata": {},
   "outputs": [],
   "source": [
    "import numpy as np\n",
    "import pandas as pd\n",
    "import random as rm\n",
    "\n",
    "\n",
    "class Die ():\n",
    "    \n",
    "    \n",
    "    def __init__(self, faces):\n",
    "        \"\"\"\"\"\n",
    "        Initializes the die\n",
    "        \"\"\"\"\"\n",
    "        faces=np.array(faces, dtype=np.float64)\n",
    "        faces=np.unique(faces)\n",
    "        self.faces = faces #Array of unique faces\n",
    "        self.n_faces = len(faces) #Number of sides\n",
    "        self.weights = np.array(self.faces[:])\n",
    "        self.weights[:] = 1.0 #Array of Weights 1.0\n",
    "        self.my_die = pd.DataFrame({'Face': range(1, self.n_faces + 1), 'Weight':self.weights})  #Saves faces and weights\n",
    "   \n",
    "        #print statements\n",
    "        #print all the self attributes\n",
    "    \n",
    "    def change_weight(self, f_change, weight):\n",
    "        \"\"\"\n",
    "        checks to see if weight is valid; is it a float?  Can it be converted into one?\n",
    "        \"\"\"\n",
    "        \n",
    "        if f_change in self.faces:\n",
    "            f_change=f_change-1 #ensuring iteration matches user input\n",
    "            weight = float(weight)\n",
    "            self.weights[f_change]= weight\n",
    "            self.my_die= pd.Dataframe({'Face': range(1, self.n_faces + 1), 'Weight':self.weights})\n",
    "        else:\n",
    "            print(\"Value is not an array\")\n",
    "        \n",
    "        \n",
    "    def roll_dice(self, n_rolls=1):\n",
    "        \"\"\"\n",
    "        A method to roll the die\n",
    "        \"\"\"\n",
    "        results = []\n",
    "        for i in range(n_rolls):\n",
    "            result = self.my_die.Face.sample(weights=self.my_die.Weight).values[0]\n",
    "            results.append(results)\n",
    "        self.results=pd.Series(results,dtype=float)\n",
    "        return print(self.results)\n",
    "    \n",
    "    \n",
    "    def current_fw(self):\n",
    "        \"\"\"\n",
    "        Returns the current faces and weights\n",
    "        Returns the dataframe created in the initalizer but possibly updated by the weight changing method\"\"\"\n",
    "    \n",
    "        print(self.faces) #Prints Faces\n",
    "        print(self.weights) #Prints Weights\n",
    "        print(self.my_die) "
   ]
  },
  {
   "cell_type": "code",
   "execution_count": 21,
   "id": "6a9f4562-5439-426a-89b9-02bf17a4d54c",
   "metadata": {},
   "outputs": [],
   "source": [
    "first = Die([1,2,3,4,5,6])\n",
    "#second = Die([2,3,4,5,6,6,7,8,9])\n",
    "#third = Die([1,3,4,6,7,8,76,543])"
   ]
  },
  {
   "cell_type": "code",
   "execution_count": 16,
   "id": "e34d9493-fd1a-42c1-9b7d-77a906da23d4",
   "metadata": {},
   "outputs": [
    {
     "ename": "NameError",
     "evalue": "name 'first' is not defined",
     "output_type": "error",
     "traceback": [
      "\u001b[1;31m---------------------------------------------------------------------------\u001b[0m",
      "\u001b[1;31mNameError\u001b[0m                                 Traceback (most recent call last)",
      "\u001b[1;32m<ipython-input-16-61dd7c7fe4fb>\u001b[0m in \u001b[0;36m<module>\u001b[1;34m\u001b[0m\n\u001b[1;32m----> 1\u001b[1;33m \u001b[0mfirst\u001b[0m\u001b[1;33m.\u001b[0m\u001b[0mchange_weights\u001b[0m\u001b[1;33m(\u001b[0m\u001b[1;36m12\u001b[0m\u001b[1;33m,\u001b[0m\u001b[1;34m\"6\"\u001b[0m\u001b[1;33m)\u001b[0m\u001b[1;33m\u001b[0m\u001b[1;33m\u001b[0m\u001b[0m\n\u001b[0m",
      "\u001b[1;31mNameError\u001b[0m: name 'first' is not defined"
     ]
    }
   ],
   "source": [
    "first.change_weights(12,\"6\")"
   ]
  },
  {
   "cell_type": "code",
   "execution_count": null,
   "id": "0ecd04ae-2a87-4696-adc3-b0c2d972ba5e",
   "metadata": {},
   "outputs": [],
   "source": [
    "first.roll_die(10)\n",
    "second.roll_die(20)"
   ]
  },
  {
   "cell_type": "code",
   "execution_count": null,
   "id": "57f31df5-304a-4fe8-a9f3-9fa82f66e1e5",
   "metadata": {},
   "outputs": [],
   "source": [
    "first.current_fw()\n",
    "second.current_fw()"
   ]
  },
  {
   "cell_type": "code",
   "execution_count": null,
   "id": "bd086bda-d777-4a0e-9c72-b3ecf845fbc2",
   "metadata": {},
   "outputs": [],
   "source": [
    "first.results\n",
    "second.results"
   ]
  },
  {
   "cell_type": "code",
   "execution_count": null,
   "id": "e4b6a066-1c86-4616-aaa5-51b61079d098",
   "metadata": {},
   "outputs": [],
   "source": [
    "class Game(Die):\n",
    "    \n",
    "    \n",
    "    def __init__(self,die_list):\n",
    "        \"\"\"\n",
    "        Takes a single parameter, a list of already instantiated similar Die object\n",
    "        \"\"\"\n",
    "        self.die_list=die_list\n",
    "        \n",
    "    def play(self, num_rolls):\n",
    "        \"\"\"\n",
    "        A play method\n",
    "        takes a parameter to specify how many times the dice should be rolled.\n",
    "        Saves the result of the play to a private dataframe of shape N rolls by M dice.\n",
    "        \"\"\"\n",
    "        \n",
    "        self.n_rolls = num_rolls\n",
    "        x = list(range(1,self.n_rolls+1))\n",
    "        print(x)\n",
    "        result=[]\n",
    "        \n",
    "        for i range(num_rolls):\n",
    "            print(self.roll_dice(1))\n",
    "            result = self.roll_dice(1)\n",
    "            result.append(result)\n",
    "        self.results = pd.Series(results,dtype=float)\n",
    "        self.nmf = pd.Dataframe({'Num_Rolls':self.num_rolls, 'Num_Dice':self.die_list})\n",
    "        print(self.nmdf)\n"
   ]
  },
  {
   "cell_type": "code",
   "execution_count": null,
   "id": "2289ca50-4f50-4a36-83ba-e093996a4d91",
   "metadata": {},
   "outputs": [],
   "source": [
    "test = Game([first,second,third])\n",
    "test.weights"
   ]
  }
 ],
 "metadata": {
  "kernelspec": {
   "display_name": "Python 3",
   "language": "python",
   "name": "python3"
  },
  "language_info": {
   "codemirror_mode": {
    "name": "ipython",
    "version": 3
   },
   "file_extension": ".py",
   "mimetype": "text/x-python",
   "name": "python",
   "nbconvert_exporter": "python",
   "pygments_lexer": "ipython3",
   "version": "3.8.8"
  }
 },
 "nbformat": 4,
 "nbformat_minor": 5
}
