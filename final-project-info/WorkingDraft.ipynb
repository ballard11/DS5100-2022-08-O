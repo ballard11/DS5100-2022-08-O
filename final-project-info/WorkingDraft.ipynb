{
 "cells": [
  {
   "cell_type": "code",
   "execution_count": 17,
   "metadata": {},
   "outputs": [],
   "source": [
    "import numpy as np\n",
    "import pandas as pd\n",
    "import random as rm\n",
    "\n",
    "\n",
    "class Die():\n",
    "    \n",
    "    \n",
    "    def __init__(self, faces):\n",
    "        \"\"\"\"\"\n",
    "        Initializes the die\n",
    "        \"\"\"\"\"\n",
    "        faces=np.array(faces, dtype=np.float64)\n",
    "        faces=np.unique(faces)\n",
    "        self.faces = faces #Array of unique faces\n",
    "        self.n_faces = len(faces) #Number of sides\n",
    "        self.weights = np.array(self.faces[:])\n",
    "        self.weights[:] = 1.0 #Array of Weights 1.0\n",
    "        self.my_die = pd.DataFrame({'Face': range(1, self.n_faces + 1), 'Weight':self.weights})  #Saves faces and weights\n",
    "   \n",
    "        #print statements\n",
    "        #print all the self attributes\n",
    "    \n",
    "    def change_weight(self, f_change, weight):\n",
    "        \"\"\"\n",
    "        checks to see if weight is valid; is it a float?  Can it be converted into one?\n",
    "        \"\"\"\n",
    "        \n",
    "        if f_change in self.faces:\n",
    "            f_change=f_change-1 #ensuring iteration matches user input\n",
    "            weight = float(weight)\n",
    "            self.weights[f_change]= weight\n",
    "            self.my_die= pd.Dataframe({'Face': range(1, self.n_faces + 1), 'Weight':self.weights})\n",
    "        else:\n",
    "            print(\"Value is not an array\")\n",
    "        \n",
    "        \n",
    "    def roll_dice(self, n_rolls=1):\n",
    "        \"\"\"\n",
    "        A method to roll the die\n",
    "        \"\"\"\n",
    "        results = []\n",
    "        for i in range(n_rolls):\n",
    "            result = self.my_die.Face.sample(weights=self.my_die.Weight).values[0]\n",
    "            results.append(results)\n",
    "        self.results=pd.Series(results,dtype=float)\n",
    "        return print(self.results)\n",
    "    \n",
    "    \n",
    "    def current_fw(self):\n",
    "        \"\"\"\n",
    "        Returns the current faces and weights\n",
    "        Returns the dataframe created in the initalizer but possibly updated by the weight changing method\"\"\"\n",
    "    \n",
    "        print(self.faces) #Prints Faces\n",
    "        print(self.weights) #Prints Weights\n",
    "        print(self.my_die) "
   ]
  },
  {
   "cell_type": "code",
   "execution_count": 18,
   "metadata": {},
   "outputs": [],
   "source": [
    "first = Die([1,2,3,4,5,6])\n",
    "#second = Die([2,3,4,5,6,6,7,8,9])\n",
    "#third = Die([1,3,4,6,7,8,76,543])"
   ]
  },
  {
   "cell_type": "code",
   "execution_count": 20,
   "metadata": {},
   "outputs": [
    {
     "name": "stdout",
     "output_type": "stream",
     "text": [
      "Value is not an array\n"
     ]
    }
   ],
   "source": [
    "first.change_weight(12,\"6\")"
   ]
  },
  {
   "cell_type": "code",
   "execution_count": 12,
   "metadata": {},
   "outputs": [
    {
     "ename": "AttributeError",
     "evalue": "'Die' object has no attribute 'roll_die'",
     "output_type": "error",
     "traceback": [
      "\u001b[0;31m---------------------------------------------------------------------------\u001b[0m",
      "\u001b[0;31mAttributeError\u001b[0m                            Traceback (most recent call last)",
      "\u001b[0;32m<ipython-input-12-bbc364713004>\u001b[0m in \u001b[0;36m<module>\u001b[0;34m\u001b[0m\n\u001b[0;32m----> 1\u001b[0;31m \u001b[0mfirst\u001b[0m\u001b[0;34m.\u001b[0m\u001b[0mroll_die\u001b[0m\u001b[0;34m(\u001b[0m\u001b[0;36m10\u001b[0m\u001b[0;34m)\u001b[0m\u001b[0;34m\u001b[0m\u001b[0;34m\u001b[0m\u001b[0m\n\u001b[0m\u001b[1;32m      2\u001b[0m \u001b[0msecond\u001b[0m\u001b[0;34m.\u001b[0m\u001b[0mroll_die\u001b[0m\u001b[0;34m(\u001b[0m\u001b[0;36m20\u001b[0m\u001b[0;34m)\u001b[0m\u001b[0;34m\u001b[0m\u001b[0;34m\u001b[0m\u001b[0m\n",
      "\u001b[0;31mAttributeError\u001b[0m: 'Die' object has no attribute 'roll_die'"
     ]
    }
   ],
   "source": [
    "first.roll_die(10)\n",
    "second.roll_die(20)"
   ]
  },
  {
   "cell_type": "code",
   "execution_count": 13,
   "metadata": {},
   "outputs": [
    {
     "name": "stdout",
     "output_type": "stream",
     "text": [
      "[1. 2. 3. 4. 5. 6.]\n",
      "[1. 1. 1. 1. 1. 1.]\n",
      "   Face  Weight\n",
      "0     1     1.0\n",
      "1     2     1.0\n",
      "2     3     1.0\n",
      "3     4     1.0\n",
      "4     5     1.0\n",
      "5     6     1.0\n"
     ]
    },
    {
     "ename": "NameError",
     "evalue": "name 'second' is not defined",
     "output_type": "error",
     "traceback": [
      "\u001b[0;31m---------------------------------------------------------------------------\u001b[0m",
      "\u001b[0;31mNameError\u001b[0m                                 Traceback (most recent call last)",
      "\u001b[0;32m<ipython-input-13-1fd51e6310a7>\u001b[0m in \u001b[0;36m<module>\u001b[0;34m\u001b[0m\n\u001b[1;32m      1\u001b[0m \u001b[0mfirst\u001b[0m\u001b[0;34m.\u001b[0m\u001b[0mcurrent_fw\u001b[0m\u001b[0;34m(\u001b[0m\u001b[0;34m)\u001b[0m\u001b[0;34m\u001b[0m\u001b[0;34m\u001b[0m\u001b[0m\n\u001b[0;32m----> 2\u001b[0;31m \u001b[0msecond\u001b[0m\u001b[0;34m.\u001b[0m\u001b[0mcurrent_fw\u001b[0m\u001b[0;34m(\u001b[0m\u001b[0;34m)\u001b[0m\u001b[0;34m\u001b[0m\u001b[0;34m\u001b[0m\u001b[0m\n\u001b[0m",
      "\u001b[0;31mNameError\u001b[0m: name 'second' is not defined"
     ]
    }
   ],
   "source": [
    "first.current_fw()\n",
    "second.current_fw()"
   ]
  },
  {
   "cell_type": "code",
   "execution_count": 14,
   "metadata": {},
   "outputs": [
    {
     "ename": "AttributeError",
     "evalue": "'Die' object has no attribute 'results'",
     "output_type": "error",
     "traceback": [
      "\u001b[0;31m---------------------------------------------------------------------------\u001b[0m",
      "\u001b[0;31mAttributeError\u001b[0m                            Traceback (most recent call last)",
      "\u001b[0;32m<ipython-input-14-0c7694605afe>\u001b[0m in \u001b[0;36m<module>\u001b[0;34m\u001b[0m\n\u001b[0;32m----> 1\u001b[0;31m \u001b[0mfirst\u001b[0m\u001b[0;34m.\u001b[0m\u001b[0mresults\u001b[0m\u001b[0;34m\u001b[0m\u001b[0;34m\u001b[0m\u001b[0m\n\u001b[0m\u001b[1;32m      2\u001b[0m \u001b[0msecond\u001b[0m\u001b[0;34m.\u001b[0m\u001b[0mresults\u001b[0m\u001b[0;34m\u001b[0m\u001b[0;34m\u001b[0m\u001b[0m\n",
      "\u001b[0;31mAttributeError\u001b[0m: 'Die' object has no attribute 'results'"
     ]
    }
   ],
   "source": [
    "first.results\n",
    "second.results"
   ]
  },
  {
   "cell_type": "code",
   "execution_count": 15,
   "metadata": {},
   "outputs": [
    {
     "ename": "SyntaxError",
     "evalue": "invalid syntax (<ipython-input-15-abe48283d308>, line 22)",
     "output_type": "error",
     "traceback": [
      "\u001b[0;36m  File \u001b[0;32m\"<ipython-input-15-abe48283d308>\"\u001b[0;36m, line \u001b[0;32m22\u001b[0m\n\u001b[0;31m    for i range(num_rolls):\u001b[0m\n\u001b[0m              ^\u001b[0m\n\u001b[0;31mSyntaxError\u001b[0m\u001b[0;31m:\u001b[0m invalid syntax\n"
     ]
    }
   ],
   "source": [
    "class Game(Die):\n",
    "    \n",
    "    \n",
    "    def __init__(self,die_list):\n",
    "        \"\"\"\n",
    "        Takes a single parameter, a list of already instantiated similar Die object\n",
    "        \"\"\"\n",
    "        self.die_list=die_list\n",
    "        \n",
    "    def play(self, num_rolls):\n",
    "        \"\"\"\n",
    "        A play method\n",
    "        takes a parameter to specify how many times the dice should be rolled.\n",
    "        Saves the result of the play to a private dataframe of shape N rolls by M dice.\n",
    "        \"\"\"\n",
    "        \n",
    "        self.n_rolls = num_rolls\n",
    "        x = list(range(1,self.n_rolls+1))\n",
    "        print(x)\n",
    "        result=[]\n",
    "        \n",
    "        for i range(num_rolls):\n",
    "            print(self.roll_dice(1))\n",
    "            result = self.roll_dice(1)\n",
    "            result.append(result)\n",
    "        self.results = pd.Series(results,dtype=float)\n",
    "        self.nmf = pd.Dataframe({'Num_Rolls':self.num_rolls, 'Num_Dice':self.die_list})\n",
    "        print(self.nmdf)\n"
   ]
  },
  {
   "cell_type": "code",
   "execution_count": 16,
   "metadata": {},
   "outputs": [
    {
     "ename": "NameError",
     "evalue": "name 'Game' is not defined",
     "output_type": "error",
     "traceback": [
      "\u001b[0;31m---------------------------------------------------------------------------\u001b[0m",
      "\u001b[0;31mNameError\u001b[0m                                 Traceback (most recent call last)",
      "\u001b[0;32m<ipython-input-16-d1110d4137c2>\u001b[0m in \u001b[0;36m<module>\u001b[0;34m\u001b[0m\n\u001b[0;32m----> 1\u001b[0;31m \u001b[0mtest\u001b[0m \u001b[0;34m=\u001b[0m \u001b[0mGame\u001b[0m\u001b[0;34m(\u001b[0m\u001b[0;34m[\u001b[0m\u001b[0mfirst\u001b[0m\u001b[0;34m,\u001b[0m\u001b[0msecond\u001b[0m\u001b[0;34m,\u001b[0m\u001b[0mthird\u001b[0m\u001b[0;34m]\u001b[0m\u001b[0;34m)\u001b[0m\u001b[0;34m\u001b[0m\u001b[0;34m\u001b[0m\u001b[0m\n\u001b[0m\u001b[1;32m      2\u001b[0m \u001b[0mtest\u001b[0m\u001b[0;34m.\u001b[0m\u001b[0mweights\u001b[0m\u001b[0;34m\u001b[0m\u001b[0;34m\u001b[0m\u001b[0m\n",
      "\u001b[0;31mNameError\u001b[0m: name 'Game' is not defined"
     ]
    }
   ],
   "source": [
    "test = Game([first,second,third])\n",
    "test.weights"
   ]
  },
  {
   "cell_type": "code",
   "execution_count": null,
   "metadata": {},
   "outputs": [],
   "source": []
  }
 ],
 "metadata": {
  "kernelspec": {
   "display_name": "Python 3",
   "language": "python",
   "name": "python3"
  },
  "language_info": {
   "codemirror_mode": {
    "name": "ipython",
    "version": 3
   },
   "file_extension": ".py",
   "mimetype": "text/x-python",
   "name": "python",
   "nbconvert_exporter": "python",
   "pygments_lexer": "ipython3",
   "version": "3.7.6"
  }
 },
 "nbformat": 4,
 "nbformat_minor": 5
}
