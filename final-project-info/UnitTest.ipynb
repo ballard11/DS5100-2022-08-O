{
 "cells": [
  {
   "cell_type": "code",
   "execution_count": null,
   "metadata": {},
   "outputs": [],
   "source": [
    "import unittest \n",
    "import numpy as np\n",
    "import pandas as pd\n",
    "import random as rm\n",
    "from MonteCarlo_demo import Die,Game,Analyzer\n",
    "\n",
    "class MonteCarloTest(unittest.TestCase):\n",
    "    \n",
    "    def test_1(self):\n",
    "        first = Die([1,2,3,4],\"new\")\n",
    "        \n",
    "        \n",
    "if __name__ == '__main__':\n",
    "    pass"
   ]
  }
 ],
 "metadata": {
  "kernelspec": {
   "display_name": "Python 3",
   "language": "python",
   "name": "python3"
  },
  "language_info": {
   "codemirror_mode": {
    "name": "ipython",
    "version": 3
   },
   "file_extension": ".py",
   "mimetype": "text/x-python",
   "name": "python",
   "nbconvert_exporter": "python",
   "pygments_lexer": "ipython3",
   "version": "3.7.6"
  }
 },
 "nbformat": 4,
 "nbformat_minor": 4
}
