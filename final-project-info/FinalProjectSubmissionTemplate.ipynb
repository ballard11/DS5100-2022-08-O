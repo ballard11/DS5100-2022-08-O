{
 "cells": [
  {
   "cell_type": "markdown",
   "id": "45762487-d33f-486d-8e38-2cdea04e3528",
   "metadata": {},
   "source": [
    "# Metadata\n",
    "\n",
    "* Title: **Final Project Report**\n",
    "* Class: DS 5100\n",
    "* Date: 12/7/1987\n",
    "* Student Name: Benjamin Ballard\n",
    "* Student Net ID: bkq5nt\n",
    "* This URL: https://github.com/ballard11/DS5100-2022-08-O/blob/main/final-project-info/FinalProjectSubmissionTemplate.ipynb\n",
    "* GitHub Repo URL: https://github.com/ballard11/DS5100-2022-08-O/tree/main/final-project-info"
   ]
  },
  {
   "cell_type": "markdown",
   "id": "d32cb273-9a40-4909-a7ce-51f6e4958d3c",
   "metadata": {},
   "source": [
    "# The Monte Carlo Module"
   ]
  },
  {
   "cell_type": "code",
   "execution_count": 19,
   "id": "a0743efc-a785-4b5c-a9e6-b65d4507a67f",
   "metadata": {},
   "outputs": [],
   "source": [
    "import numpy as np\n",
    "import pandas as pd\n",
    "import random as rm\n",
    "\n",
    "class Die():\n",
    "\n",
    "    def __init__(self, faces):\n",
    "        \"\"\" This is the Create_Die docstring\n",
    "        \n",
    "        Attributes\n",
    "        ==========\n",
    "        faces: int or str\n",
    "            the number of str on the face of the 'die'\n",
    "        weights: int\n",
    "            weight of each corresponding face, relating to liklihood of rolling that face.\n",
    "        \n",
    "        Methods\n",
    "        =======\n",
    "        change_weight:\n",
    "            changes the weight of the die\n",
    "        roll_die:\n",
    "            plays the dice 'game'\n",
    "        show:\n",
    "            shows the results\n",
    "\n",
    "        \"\"\"\n",
    "        \n",
    "    # The Initializer Method: Takes an array of faces as an argument.\n",
    "           \n",
    "        flag = len(set(faces)) == len(faces)\n",
    "        if flag == 0:\n",
    "            raise ValueError(\"Each value must be Unique.\") \n",
    "    \n",
    "        #Faces\n",
    "        #Asigns FACES to self, the length of the User Inputted array\n",
    "        self.faces = faces\n",
    "        self.n_faces = len(faces)\n",
    "        self.weights = np.ones(len(faces))\n",
    "    \n",
    "        #Create Dataframe to save values        \n",
    "        self.my_die= pd.DataFrame({\n",
    "          #  'Face':range(1,self.n_faces+1),\n",
    "            'Face':faces,\n",
    "            'Weight':self.weights})\n",
    "\n",
    "\n",
    "    def change_weight(self, f_change, weight):\n",
    "        \"\"\" f_change is the name of the face - it could be a str or int\"\"\"\n",
    "        # Changes_Weight Method: changes the weight of a single face provided (x) - Seems to work overall. \n",
    "\n",
    "        weight = float(weight)\n",
    "\n",
    "        #Re-evaluate for string\n",
    "        if f_change in self.faces:\n",
    "            #self.my_die.loc[df['Face'] == f_change , \"Weight\" ] = weight\n",
    "            self.my_die.loc[self.my_die['Face'] == f_change , \"Weight\" ] = weight\n",
    "\n",
    "            #I'm finding 'H/T' and changing the weight.\n",
    "            print(self.my_die)\n",
    "        else:\n",
    "            print(\"Value is not on the Die.  (i.e. User provided value is not in the array.)\")\n",
    "            #Raise an Error instead.\n",
    "\n",
    "            \n",
    "    def roll_die(self, n_rolls=1):\n",
    "        \"\"\"A method to roll the die one or more times. \"\"\"\n",
    "        Rolled_faces_and_weights_df = self.my_die.sample(n=n_rolls, replace = True, weights = \"Weight\").reset_index(drop= True)\n",
    "        return list(Rolled_faces_and_weights_df['Face'])    \n",
    "\n",
    "                                                \n",
    "    def show(self, wide_or_narrow = \"wide\"):\n",
    "        \"\"\"A method to show the user the dies current set of faces and weights (since the latter can be changed). \"\"\"   \n",
    "        if wide_or_narrow == 'wide':\n",
    "            return self.my_die\n",
    "        \n",
    "        elif wide_or_narrow =='narrow':\n",
    "            my_die_narrow = self.my_die.stack().to_frame('Faces')\n",
    "            my_die_narrow.index.rename([\"Roll Number\",\"Dice\"], inplace = True)\n",
    "            return my_die_narrow\n",
    "        else:\n",
    "            raise ValueError(\"Arrgument must be either \\\"narrow\\\" or \\\"wide\\\"\")\n",
    "    \n",
    "        print(self.my_die)\n",
    "        \n",
    "class Game(Die): \n",
    "    \n",
    "    def __init__(self,die_list):\n",
    "        \"\"\"Game class docstring: A game consists of rolling of one or more dice of the same kind one or more times.\n",
    "        \n",
    "        Attributes\n",
    "        ==========\n",
    "        die list:\n",
    "            Must be passed a list of die created using the Die class.\n",
    "        faces: int or str\n",
    "        weights: int\n",
    "        \n",
    "        Methods\n",
    "        =======\n",
    "        play:\n",
    "            Takes a parameter to specify how many times the dice should be rolled.\n",
    "        get_results:\n",
    "            method shows the user the results of the most recent play.        \n",
    "        \n",
    "        \"\"\"      \n",
    "        self.die_list=die_list\n",
    "        self.num_rolls = len(die_list)\n",
    "        self.results = pd.DataFrame()\n",
    "        self.my_die = pd.DataFrame()                      \n",
    "\n",
    "    def play(self, num_rolls):\n",
    "        self.my_die.index.rename(\"Roll Number\", inplace = True)\n",
    "        \n",
    "        for die in range(0, len(self.die_list)):\n",
    "            self.my_die[die] = self.die_list[die].roll_die(num_rolls)\n",
    "        \n",
    "    \n",
    "    def get_results(self, wide_or_narrow = \"wide\"):\n",
    "       # A method to show the user the die’s current set of faces and weights (since the latter can be changed). (X)\n",
    "       # Returns the dataframe created in the initializer but possibly updated by the weight changing method. (X)\n",
    "    \n",
    "        if wide_or_narrow == 'wide':\n",
    "            return self.my_die\n",
    "        \n",
    "        elif wide_or_narrow =='narrow':\n",
    "            my_die_narrow = self.my_die.stack().to_frame('Faces')\n",
    "            my_die_narrow.index.rename([\"Roll Number\",\"Die\"], inplace = True)\n",
    "            return my_die_narrow\n",
    "        else:\n",
    "            raise ValueError(\"Arrgument must be either \\\"narrow\\\" or \\\"wide\\\"\")\n",
    "    \n",
    "    \n",
    "class Analyzer(Game): \n",
    "    \"\"\"An analyzer takes the results of a single game and computes various descriptive statistical properties about it.\n",
    "            \n",
    "        Methods\n",
    "        =======\n",
    "        get_face_count:\n",
    "            A face counts per roll method to compute how many times a given face is rolled in each event.\n",
    "        get_permutation:\n",
    "            A combo method to compute the distinct combinations of faces rolled, along with their counts.\n",
    "        get_jackpot:\n",
    "            A jackpot method to compute how many times the game resulted in all faces being identical.\n",
    "    \"\"\"\n",
    "    \n",
    "    def __init__(self, game):\n",
    "        self.game_results = game.get_results()\n",
    "        self.number_of_dice = len(list(self.game_results))\n",
    "        self.jackpot = 0\n",
    "        self.face_count = pd.DataFrame()\n",
    "        self.combos = {}\n",
    "        self.temp_df = pd.DataFrame()\n",
    "        number_of_dice = 0\n",
    "\n",
    "    def get_face_count(self):\n",
    "        \"\"\"A face counts per roll, i.e. the number of times a given face appeared in each roll. \n",
    "         For example, if a roll of five dice has all sixes, then the counts for this roll would be 6 for the face value '6' and 0 for the other faces.\"\"\"\n",
    "        self.temp_df = pd.DataFrame(self.game_results.transpose().melt(var_name='rolls',value_name='faces'))\n",
    "        self.face_counts = pd.crosstab(index=self.temp_df['rolls'],columns=self.temp_df['faces'])\n",
    "        return self.face_counts\n",
    "    \n",
    "    def get_combo(self):\n",
    "        \"\"\"A combo count, i.e. how many combination types of faces were rolled and their counts.\"\"\"\n",
    "        face_count = self.get_face_count()  \n",
    "        listtest = face_count.values.tolist()\n",
    "        for i in listtest:\n",
    "            value_string = ' '.join(str(e) for e in i)\n",
    "            self.combos[value_string] = listtest.count(i)    \n",
    "        return self.combos\n",
    "          \n",
    "    def get_jackpot(self, game):\n",
    "        \"\"\"A jackpot count, i.e. how many times a roll resulted in all faces being the same, e.g. six ones for a six-sided die.\"\"\"\n",
    "        # iterate over the resulting dataframe and find any time a value includes the number of dice rolled and every time that's true you add to jackpot\n",
    "        face_count = self.get_face_count()\n",
    "        listtest = face_count.values.tolist()\n",
    "        print(game.num_rolls)\n",
    "        for i in listtest:\n",
    "            if game.num_rolls in i:\n",
    "                self.jackpot += 1\n",
    "        return self.jackpot    \n",
    "    \n",
    "        \n",
    "if __name__ == '__main__':\n",
    "    unittest.main()"
   ]
  },
  {
   "cell_type": "markdown",
   "id": "4c81c4f0-b6ff-46ab-ba2c-9de7f0179715",
   "metadata": {},
   "source": [
    "# Test Module"
   ]
  },
  {
   "cell_type": "code",
   "execution_count": 63,
   "id": "14b878d8-258b-4cf2-ad88-b8ee90d43977",
   "metadata": {},
   "outputs": [
    {
     "name": "stderr",
     "output_type": "stream",
     "text": [
      "..........\n",
      "----------------------------------------------------------------------\n",
      "Ran 10 tests in 0.231s\n",
      "\n",
      "OK\n"
     ]
    }
   ],
   "source": [
    "# A code block with your test code.\n",
    "#%pwd\n",
    "#python MonteCarloUnitTest.py \n",
    "\n",
    "!python MonteCarloUnitTest.py >results.txt\n"
   ]
  },
  {
   "cell_type": "code",
   "execution_count": 67,
   "id": "0dee3ad5-d7c9-4563-8029-be62125781be",
   "metadata": {},
   "outputs": [
    {
     "name": "stdout",
     "output_type": "stream",
     "text": [
      "Help on class Die in module MonteCarlo:\n",
      "\n",
      "class Die(builtins.object)\n",
      " |  Die(faces)\n",
      " |  \n",
      " |  Methods defined here:\n",
      " |  \n",
      " |  __init__(self, faces)\n",
      " |      This is the Create_Die docstring\n",
      " |      \n",
      " |      Attributes\n",
      " |      ==========\n",
      " |      faces: int or str\n",
      " |          the number of str on the face of the 'die'\n",
      " |      weights: int\n",
      " |          weight of each corresponding face, relating to liklihood of rolling that face.\n",
      " |      \n",
      " |      Methods\n",
      " |      =======\n",
      " |      change_weight:\n",
      " |          changes the weight of the die\n",
      " |      roll_die:\n",
      " |          plays the dice 'game'\n",
      " |      show:\n",
      " |          shows the results\n",
      " |  \n",
      " |  change_weight(self, f_change, weight)\n",
      " |      f_change is the name of the face - it could be a str or int\n",
      " |  \n",
      " |  roll_die(self, n_rolls=1)\n",
      " |      A method to roll the die one or more times.\n",
      " |  \n",
      " |  show(self, wide_or_narrow='wide')\n",
      " |      A method to show the user the dies current set of faces and weights (since the latter can be changed).\n",
      " |  \n",
      " |  ----------------------------------------------------------------------\n",
      " |  Data descriptors defined here:\n",
      " |  \n",
      " |  __dict__\n",
      " |      dictionary for instance variables (if defined)\n",
      " |  \n",
      " |  __weakref__\n",
      " |      list of weak references to the object (if defined)\n",
      "\n",
      "Help on class Game in module MonteCarlo:\n",
      "\n",
      "class Game(Die)\n",
      " |  Game(die_list)\n",
      " |  \n",
      " |  Method resolution order:\n",
      " |      Game\n",
      " |      Die\n",
      " |      builtins.object\n",
      " |  \n",
      " |  Methods defined here:\n",
      " |  \n",
      " |  __init__(self, die_list)\n",
      " |      Game class docstring: A game consists of rolling of one or more dice of the same kind one or more times.\n",
      " |      \n",
      " |      Attributes\n",
      " |      ==========\n",
      " |      die list:\n",
      " |          Must be passed a list of die created using the Die class.\n",
      " |      faces: int or str\n",
      " |      weights: int\n",
      " |      \n",
      " |      Methods\n",
      " |      =======\n",
      " |      play:\n",
      " |          Takes a parameter to specify how many times the dice should be rolled.\n",
      " |      get_results:\n",
      " |          method shows the user the results of the most recent play.\n",
      " |  \n",
      " |  get_results(self, wide_or_narrow='wide')\n",
      " |  \n",
      " |  play(self, num_rolls)\n",
      " |  \n",
      " |  ----------------------------------------------------------------------\n",
      " |  Methods inherited from Die:\n",
      " |  \n",
      " |  change_weight(self, f_change, weight)\n",
      " |      f_change is the name of the face - it could be a str or int\n",
      " |  \n",
      " |  roll_die(self, n_rolls=1)\n",
      " |      A method to roll the die one or more times.\n",
      " |  \n",
      " |  show(self, wide_or_narrow='wide')\n",
      " |      A method to show the user the dies current set of faces and weights (since the latter can be changed).\n",
      " |  \n",
      " |  ----------------------------------------------------------------------\n",
      " |  Data descriptors inherited from Die:\n",
      " |  \n",
      " |  __dict__\n",
      " |      dictionary for instance variables (if defined)\n",
      " |  \n",
      " |  __weakref__\n",
      " |      list of weak references to the object (if defined)\n",
      "\n",
      "Help on class Analyzer in module MonteCarlo:\n",
      "\n",
      "class Analyzer(Game)\n",
      " |  Analyzer(game)\n",
      " |  \n",
      " |  An analyzer takes the results of a single game and computes various descriptive statistical properties about it.\n",
      " |      \n",
      " |  Methods\n",
      " |  =======\n",
      " |  get_face_count:\n",
      " |      A face counts per roll method to compute how many times a given face is rolled in each event.\n",
      " |  get_permutation:\n",
      " |      A combo method to compute the distinct combinations of faces rolled, along with their counts.\n",
      " |  get_jackpot:\n",
      " |      A jackpot method to compute how many times the game resulted in all faces being identical.\n",
      " |  \n",
      " |  Method resolution order:\n",
      " |      Analyzer\n",
      " |      Game\n",
      " |      Die\n",
      " |      builtins.object\n",
      " |  \n",
      " |  Methods defined here:\n",
      " |  \n",
      " |  __init__(self, game)\n",
      " |      Game class docstring: A game consists of rolling of one or more dice of the same kind one or more times.\n",
      " |      \n",
      " |      Attributes\n",
      " |      ==========\n",
      " |      die list:\n",
      " |          Must be passed a list of die created using the Die class.\n",
      " |      faces: int or str\n",
      " |      weights: int\n",
      " |      \n",
      " |      Methods\n",
      " |      =======\n",
      " |      play:\n",
      " |          Takes a parameter to specify how many times the dice should be rolled.\n",
      " |      get_results:\n",
      " |          method shows the user the results of the most recent play.\n",
      " |  \n",
      " |  get_combo(self)\n",
      " |      A combo count, i.e. how many combination types of faces were rolled and their counts.\n",
      " |  \n",
      " |  get_face_count(self)\n",
      " |      A face counts per roll, i.e. the number of times a given face appeared in each roll. \n",
      " |      For example, if a roll of five dice has all sixes, then the counts for this roll would be 6 for the face value '6' and 0 for the other faces.\n",
      " |  \n",
      " |  get_jackpot(self, game)\n",
      " |      A jackpot count, i.e. how many times a roll resulted in all faces being the same, e.g. six ones for a six-sided die.\n",
      " |  \n",
      " |  ----------------------------------------------------------------------\n",
      " |  Methods inherited from Game:\n",
      " |  \n",
      " |  get_results(self, wide_or_narrow='wide')\n",
      " |  \n",
      " |  play(self, num_rolls)\n",
      " |  \n",
      " |  ----------------------------------------------------------------------\n",
      " |  Methods inherited from Die:\n",
      " |  \n",
      " |  change_weight(self, f_change, weight)\n",
      " |      f_change is the name of the face - it could be a str or int\n",
      " |  \n",
      " |  roll_die(self, n_rolls=1)\n",
      " |      A method to roll the die one or more times.\n",
      " |  \n",
      " |  show(self, wide_or_narrow='wide')\n",
      " |      A method to show the user the dies current set of faces and weights (since the latter can be changed).\n",
      " |  \n",
      " |  ----------------------------------------------------------------------\n",
      " |  Data descriptors inherited from Die:\n",
      " |  \n",
      " |  __dict__\n",
      " |      dictionary for instance variables (if defined)\n",
      " |  \n",
      " |  __weakref__\n",
      " |      list of weak references to the object (if defined)\n",
      "\n"
     ]
    }
   ],
   "source": [
    "help(Die)\n",
    "help(Game)\n",
    "help(Analyzer)"
   ]
  },
  {
   "cell_type": "markdown",
   "id": "3c2b90b6-ac8b-43fa-a069-cb5b0b22aee0",
   "metadata": {},
   "source": [
    "# Test Results"
   ]
  },
  {
   "cell_type": "code",
   "execution_count": null,
   "id": "c80201af-9579-4a2c-bbc7-805e420d156c",
   "metadata": {},
   "outputs": [],
   "source": [
    "# A text block with the output of a successful test."
   ]
  },
  {
   "cell_type": "markdown",
   "id": "7c44695d-d1b3-4edf-9f94-e64d7446f199",
   "metadata": {},
   "source": [
    "# Scenarios\n",
    "\n",
    "Code blocks with your scenarios and their outputs. \n",
    "\n",
    "These should have appropriate import statements even though the code is now in the same notebook as the classes it calls. "
   ]
  },
  {
   "cell_type": "markdown",
   "id": "90b7abd8-f4a7-4d71-bc9a-746640516b98",
   "metadata": {},
   "source": [
    "## Scenario 1"
   ]
  },
  {
   "cell_type": "code",
   "execution_count": 20,
   "id": "815eae36-4357-442a-894e-d056ebb8f998",
   "metadata": {},
   "outputs": [
    {
     "name": "stdout",
     "output_type": "stream",
     "text": [
      "  Face  Weight\n",
      "0    H     5.0\n",
      "1    T     1.0\n",
      "3\n",
      "3\n"
     ]
    },
    {
     "data": {
      "text/plain": [
       "Text(0.5, 1.0, 'Scenario 1: 2-headed coin')"
      ]
     },
     "execution_count": 20,
     "metadata": {},
     "output_type": "execute_result"
    },
    {
     "data": {
      "image/png": "[encoded data removed]",
      "text/plain": [
       "<Figure size 432x288 with 1 Axes>"
      ]
     },
     "metadata": {
      "needs_background": "light"
     },
     "output_type": "display_data"
    }
   ],
   "source": [
    "from MonteCarlo import Die, Game, Analyzer\n",
    "\n",
    "##Scenario 1\n",
    "fair_coin = Die([\"H\",\"T\"])\n",
    "\n",
    "unfair_coin = Die([\"H\",\"T\"])\n",
    "unfair_coin.change_weight(\"H\",5)\n",
    "\n",
    "number_of_flips = 1000\n",
    "\n",
    "fair_coin_set = [fair_coin, fair_coin, fair_coin]\n",
    "fair_game = Game(fair_coin_set)\n",
    "fair_game.play(number_of_flips)\n",
    "\n",
    "unfair_coin_set = [unfair_coin, unfair_coin, fair_coin]\n",
    "unfair_game = Game(unfair_coin_set)\n",
    "unfair_game.play(number_of_flips)\n",
    "\n",
    "unfair_game_analyzer = Analyzer(unfair_game)\n",
    "unfair_game_analyzer.get_face_count()\n",
    "unfair_game_analyzer.get_combo()\n",
    "\n",
    "fair_game_analyzer = Analyzer(fair_game)\n",
    "fair_game_analyzer.get_face_count()\n",
    "fair_game_analyzer.get_combo()\n",
    "#Same error on GetCombo AttributeError: 'DataFrameGroupBy' object has no attribute 'value_counts'\n",
    "\n",
    "fair_relative_frequency = fair_game_analyzer.get_jackpot(fair_game)/number_of_flips\n",
    "unfair_relative_frequency = unfair_game_analyzer.get_jackpot(unfair_game)/number_of_flips\n",
    "\n",
    "value_df = pd.DataFrame({\"fair\":[fair_relative_frequency], \"unfair\": [unfair_relative_frequency]})\n",
    "\n",
    "#Graph\n",
    "plt = value_df.plot.bar()\n",
    "plt.set_xlabel(\"Fairness\")\n",
    "plt.set_ylabel(\"Relative Frequency\")\n",
    "plt.set_title(\"Scenario 1: 2-headed coin\")\n"
   ]
  },
  {
   "cell_type": "markdown",
   "id": "92793a09-0024-465d-b272-2ef8b9a6c21c",
   "metadata": {},
   "source": [
    "## Scenario 2"
   ]
  },
  {
   "cell_type": "code",
   "execution_count": 21,
   "id": "7218e98e-6ec0-4766-8793-5b386ce6ee24",
   "metadata": {},
   "outputs": [
    {
     "name": "stdout",
     "output_type": "stream",
     "text": [
      "   Face  Weight\n",
      "0     1     1.0\n",
      "1     2     1.0\n",
      "2     3     1.0\n",
      "3     4     1.0\n",
      "4     5     1.0\n",
      "5     6     5.0\n",
      "   Face  Weight\n",
      "0     1     1.0\n",
      "1     2     1.0\n",
      "2     3     1.0\n",
      "3     4     1.0\n",
      "4     5     1.0\n",
      "5     6     5.0\n",
      "   Face  Weight\n",
      "0     1     5.0\n",
      "1     2     1.0\n",
      "2     3     1.0\n",
      "3     4     1.0\n",
      "4     5     1.0\n",
      "5     6     1.0\n",
      "3\n",
      "3\n"
     ]
    },
    {
     "data": {
      "text/plain": [
       "Text(0.5, 1.0, 'Scenario 2: 6-sided die')"
      ]
     },
     "execution_count": 21,
     "metadata": {},
     "output_type": "execute_result"
    },
    {
     "data": {
      "image/png": "[encoded data removed]",
      "text/plain": [
       "<Figure size 432x288 with 1 Axes>"
      ]
     },
     "metadata": {
      "needs_background": "light"
     },
     "output_type": "display_data"
    }
   ],
   "source": [
    "# Code blocks with output\n",
    "\n",
    "#cenario 2: 6-sided die\n",
    "    #Create a fair die and two unfair dice, all of six sides with the faces 1 through 6. One unfair die (Type 1) will weight 6 five times more than the others (i.e. it has weight of 5 and the others a weight of 1 each). The other unfair die (Type 2) will weight 1 five times more than the others.\n",
    "    #Play a game of 10000 rolls with 5 fair dice.\n",
    "    #Play a game of 10000 rolls with 2 unfair dice of type 1, 1 unfair die of type 2, and the rest fair dice.\n",
    "    #For each game, use an Analyzer object to determine the relative frequency of jackpots and show your results, comparing the two relative frequencies, in a simple bar chart.\n",
    "    #Also compute 10 most frequent combinations of faces for each game. Plot each of these as bar charts.\n",
    "\n",
    "unfair_dice_11 = Die([1,2,3,4,5,6])\n",
    "unfair_dice_11.change_weight(6,5)\n",
    "\n",
    "unfair_dice_2Type1 = Die([1,2,3,4,5,6])\n",
    "unfair_dice_2Type1.change_weight(6,5)\n",
    "\n",
    "unfair_dice_2Type2 = Die([1,2,3,4,5,6])\n",
    "unfair_dice_2Type2.change_weight(1,5)\n",
    "\n",
    "unfair_game = Game([unfair_dice_11, unfair_dice_2Type1, unfair_dice_2Type2])\n",
    "unfair_game.play(1000)\n",
    "unfair_analyzer = Analyzer(unfair_game)\n",
    "\n",
    "fair_game = Game([unfair_dice_11, unfair_dice_11, unfair_dice_11])\n",
    "fair_game.play(1000)\n",
    "fair_analyzer = Analyzer(fair_game)\n",
    "\n",
    "unfair_rel_freq = unfair_analyzer.get_jackpot(unfair_game)/1000\n",
    "all_fair_rel_freq = fair_analyzer.get_jackpot(unfair_game)/1000\n",
    "\n",
    "Unfair_analyzer_combo = unfair_analyzer.get_combo()\n",
    "\n",
    "scenario_2_df = pd.DataFrame({'Game':['All Fair Dice','Unfair Dice'], 'Jackpot Frequency': [all_fair_rel_freq, unfair_rel_freq]})\n",
    "\n",
    "#scenario_2_df = pd.DataFrame({'Game':[all_fair_rel_freq], 'Jackpot Frequency': [unfair_relative_frequency]})\n",
    "\n",
    "plt = scenario_2_df.plot.bar()\n",
    "plt.set_xlabel(\"Game\")\n",
    "plt.set_ylabel(\"Jackpot Frequency\")\n",
    "plt.set_title(\"Scenario 2: 6-sided die\")\n",
    "\n",
    "\n",
    " "
   ]
  },
  {
   "cell_type": "markdown",
   "id": "1b47f5b6-188d-4d24-9c2f-687b430e6624",
   "metadata": {},
   "source": [
    "## Scenario 3"
   ]
  },
  {
   "cell_type": "code",
   "execution_count": null,
   "id": "ad6d2878-f832-4065-98a3-1ea78ff0a6d3",
   "metadata": {},
   "outputs": [],
   "source": [
    "# Code blocks with output"
   ]
  },
  {
   "cell_type": "markdown",
   "id": "6ced706c-19e7-4e79-b171-bfb076f822b4",
   "metadata": {},
   "source": [
    "# Directory Listing\n",
    "\n",
    "A code block that executes the following bash command: \n",
    "\n",
    "```bash\n",
    "!ls -lRF -o\n",
    "```"
   ]
  },
  {
   "cell_type": "code",
   "execution_count": 73,
   "id": "5dbd35c2-e479-4179-b792-997d4293ba96",
   "metadata": {},
   "outputs": [
    {
     "name": "stdout",
     "output_type": "stream",
     "text": [
      " Volume in drive C has no label.\n",
      " Volume Serial Number is 0C05-53DB\n",
      "\n",
      " Directory of C:\\Users\\Ben\\OneDrive\\Documents\\UVA 1st Semester\\Programming New Github\\DS5100-2022-08-O\\final-project-info\n",
      "\n",
      "\n",
      " Directory of C:\\Users\\Ben\\OneDrive\\Documents\\UVA 1st Semester\\Programming New Github\\DS5100-2022-08-O\\final-project-info\n",
      "\n"
     ]
    },
    {
     "name": "stderr",
     "output_type": "stream",
     "text": [
      "File Not Found\n"
     ]
    },
    {
     "name": "stdout",
     "output_type": "stream",
     "text": [
      " Volume in drive C has no label.\n",
      " Volume Serial Number is 0C05-53DB\n",
      "\n",
      " Directory of C:\\Users\\Ben\\OneDrive\\Documents\\UVA 1st Semester\\Programming New Github\\DS5100-2022-08-O\\final-project-info\n",
      "\n",
      "12/07/2022  10:13 PM    <DIR>          .\n",
      "12/07/2022  10:13 PM    <DIR>          ..\n",
      "12/07/2022  10:05 PM    <DIR>          .ipynb_checkpoints\n",
      "12/07/2022  10:06 PM    <DIR>          __pycache__\n",
      "12/07/2022  07:05 PM    <DIR>          Archive\n",
      "12/07/2022  10:13 PM            43,731 FinalProjectSubmissionTemplate.ipynb\n",
      "12/07/2022  10:15 PM    <DIR>          MonteCarlo.egg-info\n",
      "12/07/2022  10:06 PM             7,201 MonteCarlo.py\n",
      "12/07/2022  07:06 PM                 0 montecarlo_test_results.txt\n",
      "12/06/2022  04:05 PM             1,726 montecarlo_tests.py\n",
      "12/07/2022  10:06 PM            70,129 MonteCarlo-Main.ipynb\n",
      "12/07/2022  10:11 PM             3,535 MonteCarloUnitTest.py\n",
      "12/06/2022  06:46 PM             1,054 ReadMe.txt\n",
      "12/07/2022  10:11 PM                 0 results.txt\n",
      "12/07/2022  06:56 PM               764 Setup.ipynb\n",
      "12/07/2022  07:14 PM               101 Setup.py\n",
      "              10 File(s)        128,241 bytes\n",
      "               6 Dir(s)  52,002,824,192 bytes free\n"
     ]
    }
   ],
   "source": [
    "%ls -lRF -o\n",
    "%ls\n"
   ]
  },
  {
   "cell_type": "markdown",
   "id": "c4df835c-3cd7-4c74-a4de-51638607680b",
   "metadata": {
    "tags": []
   },
   "source": [
    "# Installation Output Listing\n",
    "    \n",
    "A code block that executes the code to install your your package and outputs a successful installation."
   ]
  },
  {
   "cell_type": "code",
   "execution_count": null,
   "id": "3609769a-c338-4746-8607-d124caf76ed8",
   "metadata": {},
   "outputs": [],
   "source": [
    "# Installation commands"
   ]
  },
  {
   "cell_type": "code",
   "execution_count": 68,
   "id": "3f8d0ced-8841-4357-bda1-151880cf91a0",
   "metadata": {},
   "outputs": [
    {
     "name": "stdout",
     "output_type": "stream",
     "text": [
      "Obtaining file:///C:/Users/Ben/OneDrive/Documents/UVA%201st%20Semester/Programming%20New%20Github/DS5100-2022-08-O/final-project-info\n",
      "Installing collected packages: MonteCarlo\n",
      "  Attempting uninstall: MonteCarlo\n",
      "    Found existing installation: MonteCarlo 3.0.0\n",
      "    Uninstalling MonteCarlo-3.0.0:\n",
      "      Successfully uninstalled MonteCarlo-3.0.0\n",
      "  Running setup.py develop for MonteCarlo\n",
      "Successfully installed MonteCarlo\n"
     ]
    }
   ],
   "source": [
    "!pip install -e ."
   ]
  }
 ],
 "metadata": {
  "kernelspec": {
   "display_name": "Python 3",
   "language": "python",
   "name": "python3"
  },
  "language_info": {
   "codemirror_mode": {
    "name": "ipython",
    "version": 3
   },
   "file_extension": ".py",
   "mimetype": "text/x-python",
   "name": "python",
   "nbconvert_exporter": "python",
   "pygments_lexer": "ipython3",
   "version": "3.8.8"
  },
  "widgets": {
   "application/vnd.jupyter.widget-state+json": {
    "state": {},
    "version_major": 2,
    "version_minor": 0
   }
  }
 },
 "nbformat": 4,
 "nbformat_minor": 5
}
