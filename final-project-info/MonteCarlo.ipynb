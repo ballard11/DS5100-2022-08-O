{
 "cells": [
  {
   "cell_type": "code",
   "execution_count": null,
   "metadata": {},
   "outputs": [],
   "source": [
    "from montecarlo import Die\n",
    "from montecarlo import Game\n",
    "from montecarlo import Analyzer\n",
    "\n",
    "from matplotlib import pyplot as plt\n",
    "import numpy as np\n",
    "import pandas as pd\n",
    "\n",
    "fair_coin = Die([\"H\",\"T)]\n",
    "\n",
    "unfair_coin = Die([\"H\",\"T\"])\n",
    "unfair_coin.set_weight(\"H\",5)\n",
    "\n",
    "Number_of_flips = 1000\n",
    "\n",
    "Fair_coin_set = [fair_coin, fair_coin, fair_coin]\n",
    "Fair_game = Game(fair_coin_set)\n",
    "Fair_game.play(number_of_flips)\n",
    "\n",
    "Fair_game_analyzer = Analyzer(fair_game)\n",
    "Fair_game_analyzer.get_face_counts()\n",
    "Fair_game_analyzer.get_combos()\n",
    "\n",
    "Fair_relative_frequency = fair_game_analyzer.get_jackpots()/number_of_flips\n",
    "\n",
    "Value_df = pd.DataFrame({\"fair\":[fair_relative_frequency], \"unfair\": [unfair_relative_frequency]})\n",
    "\n",
    "#Graph\n",
    "Value_df.plot.bar()\n",
    "Plt.xlabel(\"Fairness\")\n",
    "Plt.ylabel(\"Relative Frequency\")\n",
    "Plt.title(\"Scenario 1: 2-headed coin\")\n"
   ]
  }
 ],
 "metadata": {
  "kernelspec": {
   "display_name": "Python 3",
   "language": "python",
   "name": "python3"
  },
  "language_info": {
   "codemirror_mode": {
    "name": "ipython",
    "version": 3
   },
   "file_extension": ".py",
   "mimetype": "text/x-python",
   "name": "python",
   "nbconvert_exporter": "python",
   "pygments_lexer": "ipython3",
   "version": "3.7.6"
  }
 },
 "nbformat": 4,
 "nbformat_minor": 4
}
